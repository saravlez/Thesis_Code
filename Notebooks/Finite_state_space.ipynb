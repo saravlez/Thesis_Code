{
 "cells": [
  {
   "cell_type": "markdown",
   "metadata": {},
   "source": [
    "# Finite state space\n",
    "\n",
    "Phylogenetic tree initial analysis with observations at the leaf nodes, following the finite state space example and algorithm in https://arxiv.org/abs/2203.04155 ."
   ]
  },
  {
   "cell_type": "code",
   "execution_count": 27,
   "metadata": {},
   "outputs": [
    {
     "name": "stdout",
     "output_type": "stream",
     "text": [
      "The autoreload extension is already loaded. To reload it, use:\n",
      "  %reload_ext autoreload\n"
     ]
    }
   ],
   "source": [
    "%load_ext autoreload\n",
    "%autoreload 2"
   ]
  },
  {
   "cell_type": "code",
   "execution_count": 28,
   "metadata": {},
   "outputs": [
    {
     "name": "stdout",
     "output_type": "stream",
     "text": [
      "/Users/sara/anaconda3/envs/hyperiax/bin/python\n"
     ]
    }
   ],
   "source": [
    "import sys\n",
    "print(sys.executable)\n",
    "\n",
    "import hyperiax\n",
    "import jax\n",
    "import math\n",
    "import numpy as np\n",
    "from functools import reduce\n",
    "import matplotlib.pyplot as plt\n",
    "from jax.random import PRNGKey, split\n",
    "from jax import numpy as jnp\n",
    "from hyperiax.execution import LevelwiseTreeExecutor\n",
    "from hyperiax.models import UpLambda\n",
    "from hyperiax.models.functional import product_fuse_children\n",
    "from hyperiax.mcmc import Parameter, ParameterStore, UniformParameter, VarianceParameter\n",
    "from hyperiax.mcmc.metropolis_hastings import metropolis_hastings\n",
    "from hyperiax.mcmc.plotting import trace_plots"
   ]
  },
  {
   "cell_type": "code",
   "execution_count": 29,
   "metadata": {},
   "outputs": [],
   "source": [
    "key = PRNGKey(42)"
   ]
  },
  {
   "cell_type": "markdown",
   "metadata": {},
   "source": [
    "Function for children value multiplication with vector normalization "
   ]
  },
  {
   "cell_type": "code",
   "execution_count": 30,
   "metadata": {},
   "outputs": [],
   "source": [
    "def norm_product_fuse(**kwargs):\n",
    "    value = reduce(lambda x, y: x * y, kwargs['child_value']).reshape(-1)\n",
    "    new_value = value / jnp.linalg.norm(value)\n",
    "    log_sum = math.log(jnp.linalg.norm(value))\n",
    "    return {'value': new_value, 'log_sum': log_sum}"
   ]
  },
  {
   "cell_type": "code",
   "execution_count": 31,
   "metadata": {},
   "outputs": [],
   "source": [
    "# Update Parameter class for Uniform Distribution\n",
    "class UniformParameter(Parameter):\n",
    "    def __init__(self, value, min=0., max=1., keep_constant=False) -> None:\n",
    "        super().__init__(value)\n",
    "        self.min = min\n",
    "        self.max = max\n",
    "        self.keep_constant = keep_constant\n",
    "\n",
    "    def propose(self, key):\n",
    "        if self.keep_constant:\n",
    "            return self\n",
    "\n",
    "        return UniformParameter(jax.random.uniform(key, minval=self.min, maxval=self.max), self.min, self.max,\n",
    "                                self.keep_constant)\n",
    "\n",
    "    def update(self, value, accepted):\n",
    "        if accepted:\n",
    "            self.value = value\n",
    "\n",
    "    def log_prior(self):\n",
    "        return 0."
   ]
  },
  {
   "cell_type": "markdown",
   "metadata": {},
   "source": [
    "# Create tree\n",
    "First, we initialize the tree with for each node the type, value, and log_sum (norm)."
   ]
  },
  {
   "cell_type": "code",
   "execution_count": 32,
   "metadata": {},
   "outputs": [
    {
     "name": "stdout",
     "output_type": "stream",
     "text": [
      "Tree: HypTree with 5 levels and 9 nodes\n",
      " *\n",
      " │\n",
      " *\n",
      "┌┴─┐\n",
      "*  * \n",
      "│ ┌┴┐\n",
      "* * *\n",
      "│ │  \n",
      "* *\n"
     ]
    }
   ],
   "source": [
    "# create tree and initialize with noise\n",
    "\n",
    "from hyperiax.tree import HypTree, TreeNode\n",
    "from hyperiax.tree.childrenlist import ChildList\n",
    "\n",
    "# example tree, see Figure 1 / Figure 4 tree in https://arxiv.org/abs/2203.04155\n",
    "root = TreeNode();  # x_{-1}\n",
    "x0 = TreeNode(); x0.parent = root; root.children = ChildList([x0])\n",
    "x1 = TreeNode(); x1.parent = x0;\n",
    "x3 = TreeNode(); x3.parent = x0;\n",
    "x0.children = ChildList([x1, x3])\n",
    "x2 = TreeNode(); x2.parent = x1; x1.children = ChildList([x2])\n",
    "v3 = TreeNode(); v3.parent = x2; x2.children = ChildList([v3])\n",
    "x4 = TreeNode(); x4.parent = x3;\n",
    "v2 = TreeNode(); v2.parent = x3; x3.children = ChildList([x4, v2])\n",
    "v1 = TreeNode(); v1.parent = x4; x4.children = ChildList([v1])\n",
    "v1.children = v2.children = v3.children = ChildList()\n",
    "\n",
    "tree = HypTree(root)\n",
    "print('Tree:', tree)\n",
    "tree.plot_tree_text()\n",
    "\n",
    "# types for correct transitions\n",
    "troot = 0; tinner_node = 1; tleaf_node = 2;\n",
    "tree.root['type'] = troot\n",
    "x1['type'] = x2['type'] = x3['type'] = x4['type'] = tinner_node\n",
    "v1['type'] = v2['type'] = v3['type'] = tleaf_node\n",
    "\n",
    "# number of states\n",
    "R = 3\n",
    "\n",
    "# root \n",
    "tree.root['value'] = jnp.zeros(R)\n",
    "x0['type'] = troot\n",
    "\n",
    "# observations\n",
    "v1['value'] = jnp.eye(R)[0]\n",
    "v2['value'] = jnp.eye(R)[1]\n",
    "v3['value'] = jnp.eye(R)[2]\n",
    "\n",
    "# Initialize log_sum as data of all nodes\n",
    "for i in tree.iter_bfs():\n",
    "    i['log_sum'] = 0\n",
    "    \n",
    "# initial state prior\n",
    "pi1 = pi2 = pi3 = 1 / 3;\n",
    "km10 = lambda params: jnp.diag([pi1, pi2, pi3])\n",
    "# inner node\n",
    "kst = lambda params: jnp.array([[1. - params['theta'], params['theta'], 0.],\n",
    "                                [.25, .5, .25],\n",
    "                                [.4, .3, .3]])\n",
    "# leaves\n",
    "lambdi = lambda params: jnp.array([[1., 1., 0.],\n",
    "                                   [1., 1., 0.], \n",
    "                                   [0., 0., 1.]])\n",
    "\n",
    "# transitions inside the tree\n",
    "def transition(value, type, params):\n",
    "    return jax.lax.cond(type == tinner_node,\n",
    "                        lambda: jnp.dot(kst(params), value),\n",
    "                        lambda: jax.lax.cond(type == tleaf_node,\n",
    "                                             lambda: jnp.dot(lambdi(params), value),\n",
    "                                             lambda: jnp.array([pi1, pi2, pi3])\n",
    "                                            )\n",
    "                       )\n"
   ]
  },
  {
   "cell_type": "markdown",
   "metadata": {},
   "source": [
    "Parameter for the inner transition kernel."
   ]
  },
  {
   "cell_type": "code",
   "execution_count": 33,
   "metadata": {},
   "outputs": [],
   "source": [
    "# parameter, theta with uniform prior\n",
    "params = ParameterStore({\n",
    "    'theta': UniformParameter(.5),  # theta parameter for kst\n",
    "})"
   ]
  },
  {
   "cell_type": "markdown",
   "metadata": {},
   "source": [
    "We now define the backwards filter through the up and fuse functions. In this case, the up operation is first a matrix multiplication and then a dot product of the children."
   ]
  },
  {
   "cell_type": "code",
   "execution_count": 34,
   "metadata": {},
   "outputs": [],
   "source": [
    "# backwards filter \n",
    "def up(value, type, params, **args):\n",
    "    def f(value, type):\n",
    "        return {'value': transition(value, type, params)}\n",
    "    return jax.vmap(f)(value, type)"
   ]
  },
  {
   "cell_type": "markdown",
   "metadata": {},
   "source": [
    "We create the model and executor for the backwards filter (up) with the normalized product of the values after joining them."
   ]
  },
  {
   "cell_type": "code",
   "execution_count": 35,
   "metadata": {},
   "outputs": [],
   "source": [
    "# create model and executor\n",
    "upmodel = UpLambda(up_fn=up, fuse_fn=norm_product_fuse)\n",
    "upexec = LevelwiseTreeExecutor(upmodel)"
   ]
  },
  {
   "cell_type": "code",
   "execution_count": 36,
   "metadata": {},
   "outputs": [
    {
     "name": "stdout",
     "output_type": "stream",
     "text": [
      "{'type': 0, 'value': Array([0.33333334, 0.33333334, 0.33333334], dtype=float32), 'log_sum': 0}\n",
      "{'type': 0, 'log_sum': -0.9150115257595711, 'value': Array([0.5594453 , 0.63936603, 0.527477  ], dtype=float32)}\n",
      "{'type': 1, 'log_sum': -0.9402953096177683, 'value': Array([0.        , 0.6401844 , 0.76822126], dtype=float32)}\n",
      "{'type': 1, 'log_sum': -0.12343010665625444, 'value': Array([0.8, 0.6, 0. ], dtype=float32)}\n",
      "{'type': 1, 'log_sum': 0.0, 'value': Array([0., 0., 1.], dtype=float32)}\n",
      "{'type': 1, 'log_sum': 0.3465735731657015, 'value': Array([0.70710677, 0.70710677, 0.        ], dtype=float32)}\n",
      "{'type': 2, 'value': Array([0., 1., 0.], dtype=float32), 'log_sum': 0}\n",
      "{'type': 2, 'value': Array([0., 0., 1.], dtype=float32), 'log_sum': 0}\n",
      "{'type': 2, 'value': Array([1., 0., 0.], dtype=float32), 'log_sum': 0}\n"
     ]
    }
   ],
   "source": [
    "# execture backwards filter\n",
    "utree = upexec.up(tree, params.values())\n",
    "\n",
    "# prior is also normalized which I avoided to compare the results better\n",
    "utree.root.data['log_sum'] = 0\n",
    "utree.root.data['value'] = jnp.array([pi1, pi2, pi3])\n",
    "\n",
    "# print results and calculate total to be added later\n",
    "total_log_sum = 0\n",
    "for node in utree.iter_bfs():\n",
    "    print(node.data)\n",
    "    total_log_sum += node.data['log_sum']\n"
   ]
  },
  {
   "cell_type": "markdown",
   "metadata": {},
   "source": [
    "# Likelihood Computation\n",
    "We compute the likelihood as the dot product of the prior kernel and the value at the root, plus the norms of the normalized values."
   ]
  },
  {
   "cell_type": "code",
   "execution_count": 37,
   "metadata": {},
   "outputs": [
    {
     "name": "stdout",
     "output_type": "stream",
     "text": [
      "The likelihoog is -2.1848020344253407\n"
     ]
    }
   ],
   "source": [
    "# Likelihood = log(prior * h0) + log(sum norm)\n",
    "prior_vec = utree.root.data['value']\n",
    "h0_vec = utree.root.children[0].data['value']\n",
    "\n",
    "log_lik = math.log(jnp.dot(prior_vec, h0_vec)) + total_log_sum\n",
    "print(f\"The likelihoog is {log_lik}\")"
   ]
  },
  {
   "cell_type": "markdown",
   "metadata": {},
   "source": [
    "# Result Comparison\n",
    "Log-likelihood results for different values of theta."
   ]
  },
  {
   "cell_type": "code",
   "execution_count": 48,
   "metadata": {},
   "outputs": [],
   "source": [
    "likelihood = []\n",
    "theta_range = np.linspace(0.02, 0.95, 1000)\n",
    "for new_theta in theta_range:\n",
    "    # Update theta\n",
    "    params['theta'].update(float(new_theta), True)\n",
    "\n",
    "    # create model and executor\n",
    "    upmodel = UpLambda(up_fn=up, fuse_fn=norm_product_fuse)\n",
    "    upexec = LevelwiseTreeExecutor(upmodel)\n",
    "\n",
    "    # execture backwards filter\n",
    "    new_tree = upexec.up(tree, params.values())\n",
    "\n",
    "    # Compute Log-Likelihood\n",
    "    total_log_sum = 0\n",
    "    for node in new_tree.iter_bfs():\n",
    "        total_log_sum += node.data['log_sum']\n",
    "\n",
    "    prior_vec = new_tree.root.data['value']\n",
    "    h0_vec = new_tree.root.children[0].data['value']\n",
    "\n",
    "    # New Likelihood\n",
    "    new_lik = math.log(jnp.dot(prior_vec, h0_vec)) + total_log_sum\n",
    "    likelihood.append(new_lik)"
   ]
  },
  {
   "cell_type": "code",
   "execution_count": 50,
   "metadata": {},
   "outputs": [
    {
     "data": {
      "image/png": "[encoded data removed]",
      "text/plain": [
       "<Figure size 640x480 with 1 Axes>"
      ]
     },
     "metadata": {},
     "output_type": "display_data"
    }
   ],
   "source": [
    "# Plot Parameter Comparison\n",
    "plt.plot(theta_range, likelihood)\n",
    "plt.xlabel('theta')\n",
    "plt.ylabel('Log-Likelihood')\n",
    "plt.grid()\n",
    "plt.savefig(\"Simple_LogLike.png\")\n",
    "plt.show()"
   ]
  },
  {
   "cell_type": "code",
   "execution_count": null,
   "metadata": {},
   "outputs": [],
   "source": []
  }
 ],
 "metadata": {
  "kernelspec": {
   "display_name": "Python 3 (ipykernel)",
   "language": "python",
   "name": "python3"
  },
  "language_info": {
   "codemirror_mode": {
    "name": "ipython",
    "version": 3
   },
   "file_extension": ".py",
   "mimetype": "text/x-python",
   "name": "python",
   "nbconvert_exporter": "python",
   "pygments_lexer": "ipython3",
   "version": "3.12.2"
  }
 },
 "nbformat": 4,
 "nbformat_minor": 4
}
