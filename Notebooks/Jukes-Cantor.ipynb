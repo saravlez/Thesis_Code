{
 "cells": [
  {
   "cell_type": "markdown",
   "metadata": {},
   "source": [
    "# Jukes-Cantor Model\n",
    "\n",
    "Nucleotide substitution model with same probabilities for all transitions, with $\\mathcal{S}$ = $\\{$A, G, C, T$\\}$ and parameter inference for the phylogenetic trees with backwards filtering following https://arxiv.org/abs/2203.04155."
   ]
  },
  {
   "cell_type": "code",
   "execution_count": 1,
   "metadata": {},
   "outputs": [],
   "source": [
    "%load_ext autoreload\n",
    "%autoreload 2"
   ]
  },
  {
   "cell_type": "code",
   "execution_count": 2,
   "metadata": {},
   "outputs": [
    {
     "name": "stdout",
     "output_type": "stream",
     "text": [
      "/Users/sara/anaconda3/envs/hyperiax/bin/python\n"
     ]
    }
   ],
   "source": [
    "import sys\n",
    "print(sys.executable)\n",
    "\n",
    "import hyperiax\n",
    "import jax\n",
    "import math\n",
    "import numpy as np\n",
    "from Bio import Phylo\n",
    "from io import StringIO\n",
    "from functools import reduce\n",
    "import matplotlib.pyplot as plt\n",
    "from jax.random import PRNGKey, split\n",
    "from jax import numpy as jnp\n",
    "from hyperiax.execution import LevelwiseTreeExecutor\n",
    "from hyperiax.models import UpLambda\n",
    "from hyperiax.models.functional import product_fuse_children\n",
    "from hyperiax.mcmc import Parameter, ParameterStore\n",
    "from hyperiax.mcmc.metropolis_hastings import metropolis_hastings\n",
    "from hyperiax.mcmc.plotting import trace_plots"
   ]
  },
  {
   "cell_type": "code",
   "execution_count": 3,
   "metadata": {},
   "outputs": [],
   "source": [
    "key = PRNGKey(42)"
   ]
  },
  {
   "cell_type": "code",
   "execution_count": 4,
   "metadata": {},
   "outputs": [],
   "source": [
    "# Updated UniformParameter class for later analysis\n",
    "class UniformParameter(Parameter):\n",
    "    def __init__(self, value, min=0., max=1., keep_constant=False) -> None:\n",
    "        super().__init__(value)\n",
    "        self.min = min\n",
    "        self.max = max\n",
    "        self.keep_constant = keep_constant\n",
    "\n",
    "    def propose(self, key):\n",
    "        if self.keep_constant:\n",
    "            return self\n",
    "\n",
    "        return UniformParameter(jax.random.uniform(key, minval=self.min, maxval=self.max), self.min, self.max,\n",
    "                                self.keep_constant)\n",
    "\n",
    "    def update(self, value, accepted):\n",
    "        if accepted:\n",
    "            self.value = value\n",
    "\n",
    "    def log_prior(self):\n",
    "        return 0."
   ]
  },
  {
   "cell_type": "code",
   "execution_count": 5,
   "metadata": {},
   "outputs": [],
   "source": [
    "# Jukes-Cantor transition matrix \n",
    "def jukes_cantor_matrix(alpha):\n",
    "    \"\"\"\n",
    "    Generates the Jukes-Cantor matrix for a given alpha value.\n",
    "\n",
    "    Assume\n",
    "     i) each base in the sequence has an equal probability of being substituted, and\n",
    "     ii) if a nucleotide substitution occurs, all other nucleotides have the same probability to replace it\n",
    "\n",
    "    Input:\n",
    "        alpha: The probability of substitution\n",
    "\n",
    "    Output:\n",
    "        matrix: Jukes-Cantor transition matrix.\n",
    "    \"\"\"\n",
    "\n",
    "    # 4x4 Transition matrix\n",
    "    matrix = jnp.array([[1 - 3 * alpha, alpha, alpha, alpha],\n",
    "                        [alpha, 1 - 3 * alpha, alpha, alpha],\n",
    "                        [alpha, alpha, 1 - 3 * alpha, alpha],\n",
    "                        [alpha, alpha, alpha, 1 - 3 * alpha]])\n",
    "\n",
    "    # print(f\"kernel :\\n{matrix}\")\n",
    "    return matrix"
   ]
  },
  {
   "cell_type": "markdown",
   "metadata": {},
   "source": [
    "# Create tree.\n",
    "First, we initialize the tree with for each node the type, value, and log_sum (norm)."
   ]
  },
  {
   "cell_type": "code",
   "execution_count": 6,
   "metadata": {},
   "outputs": [
    {
     "name": "stdout",
     "output_type": "stream",
     "text": [
      "Tree: HypTree with 7 levels and 64 nodes\n",
      "Newick string:\n",
      "((((((G,C),(A,T)),((C,A),(G,T))),(((A,G),(C,T)),((A,G),(T,A)))),((((T,C),(G,A)),((A,C),(C,T))),(((T,C),(A,C)),((A,T),(G,A)))))x0)prior;\n"
     ]
    },
    {
     "data": {
      "image/png": "[encoded data removed]",
      "text/plain": [
       "<Figure size 640x480 with 1 Axes>"
      ]
     },
     "metadata": {},
     "output_type": "display_data"
    }
   ],
   "source": [
    "from hyperiax.tree import HypTree, TreeNode\n",
    "from hyperiax.tree.childrenlist import ChildList\n",
    "\n",
    "# Define it as a Newick Tree\n",
    "newick_string = \"(((((G,C),(A,T)),((C,A),(G,T))),(((A,G),(C,T)),((A,G),(T,A)))),((((T,C),(G,A)),((A,C),(C,T))),(((T,C),(A,C)),((A,T),(G,A)))));\"\n",
    "# newick = Phylo.read(StringIO(newick_string), \"newick\")\n",
    "tree_newick = hyperiax.tree.builders.tree_from_newick(newick_string)\n",
    "\n",
    "# Or create a random symmetric tree\n",
    "# tree_newick = hyperiax.tree.builders.symmetric_tree(h=5, degree=2)\n",
    "\n",
    "# Or create a random not symmetric tree\n",
    "# tree_newick = hyperiax.tree.builders.asymmetric_tree(h=5)\n",
    "\n",
    "# Prior Data\n",
    "prior = TreeNode(); prior.name = \"prior\"\n",
    "# Root Data\n",
    "x0 = tree_newick.root; x0.name = \"x0\"\n",
    "x0.parent = prior; prior.children = ChildList([x0])\n",
    "x0.children = tree_newick.root.children\n",
    "\n",
    "tree = HypTree(prior)\n",
    "print('Tree:', tree)\n",
    "\n",
    "# set types to select the right transitions\n",
    "# types\n",
    "troot = 0; tinner_node = 1; tleaf_node = 2\n",
    "\n",
    "for i in tree.iter_bfs():\n",
    "    i['type'] = tinner_node\n",
    "    i['log_sum'] = 0\n",
    "\n",
    "for i in tree.iter_leaves():\n",
    "    i['type'] = tleaf_node\n",
    "\n",
    "tree.root['type'] = troot\n",
    "x0['type'] = troot\n",
    "\n",
    "# number of states\n",
    "R = 4\n",
    "\n",
    "# root value\n",
    "tree.root['value'] = jnp.zeros(R)\n",
    "\n",
    "# observations\n",
    "nucleotides = ['A', 'G', 'C', 'T']\n",
    "for i in tree.iter_leaves():\n",
    "    if i.name in nucleotides:\n",
    "        i['value'] = jnp.eye(R)[nucleotides.index(i.name)]\n",
    "    else:\n",
    "        i['value'] = jnp.eye(R)[np.random.choice(4)]\n",
    "        i.name = nucleotides[jnp.argmax(i['value'])]\n",
    "\n",
    "Phylo.draw(Phylo.read(StringIO(tree.to_newick()), \"newick\"), branch_labels=lambda c: c.branch_length, do_show=False)\n",
    "print(f\"Newick string:\\n{tree.to_newick()}\")\n",
    "\n",
    "for i, node in enumerate(tree.iter_bfs(), start=-1):\n",
    "    if node.name is None:\n",
    "        node.name = f'x_{i}' if node.name is None else f'{node.name}'\n",
    "\n",
    "# root, initial state prior\n",
    "pi1 = 0.9; pi2 = 0.08; pi3 = 0.01; pi4 = 0.01\n",
    "km10 = lambda params: jnp.diag([pi1, pi2, pi3, pi4])\n",
    "\n",
    "# inner node\n",
    "kst = lambda params: jukes_cantor_matrix(params['alpha'])\n",
    "\n",
    "# leaves\n",
    "lambdi = lambda params: jnp.eye(R)\n",
    "\n",
    "# using jax.lax.cond instead of python ifs\n",
    "def transition(value, type, params):\n",
    "    return jax.lax.cond(type == tinner_node,\n",
    "                        lambda: jnp.dot(kst(params), value),\n",
    "                        lambda: jax.lax.cond(type == tleaf_node,\n",
    "                                             lambda: jnp.dot(kst(params), jnp.dot(lambdi(params), value)),\n",
    "                                             lambda: jnp.array([pi1, pi2, pi3, pi4])\n",
    "                                            )\n",
    "                       )"
   ]
  },
  {
   "cell_type": "markdown",
   "metadata": {},
   "source": [
    "Parameter for the transition kernel."
   ]
  },
  {
   "cell_type": "code",
   "execution_count": 7,
   "metadata": {},
   "outputs": [],
   "source": [
    "# parameters, alpha with uniform prior\n",
    "params = ParameterStore({\n",
    "    'alpha': UniformParameter(value=0.2),  \n",
    "})\n",
    "\n",
    "true_params = ParameterStore({\n",
    "    'alpha': UniformParameter(value=0.2),  \n",
    "})"
   ]
  },
  {
   "cell_type": "markdown",
   "metadata": {},
   "source": [
    "We now define the backwards filter through the up and fuse functions. In this case, the up operation is first a matrix multiplication and then a dot product of the children."
   ]
  },
  {
   "cell_type": "code",
   "execution_count": 8,
   "metadata": {},
   "outputs": [],
   "source": [
    "# backwards filter. The operation is vmap'ed over the batch dimension (leading dimension)\n",
    "# @jax.jit\n",
    "def up(value, type, params, **args):\n",
    "    def f(value, type):\n",
    "        return {'value': transition(value, type, params)}\n",
    "    return jax.vmap(f)(value, type)\n",
    "        \n",
    "def norm_product_fuse(**kwargs):\n",
    "    value = reduce(lambda x, y: x * y, kwargs['child_value']).reshape(-1)\n",
    "    new_value = value / jnp.linalg.norm(value)\n",
    "    log_sum = math.log(jnp.linalg.norm(value))\n",
    "    return {'value': new_value, 'log_sum': log_sum}\n"
   ]
  },
  {
   "cell_type": "markdown",
   "metadata": {},
   "source": [
    "We create the model and executor for the backwards filter (up) with the normalized product of the values after joining them."
   ]
  },
  {
   "cell_type": "code",
   "execution_count": 9,
   "metadata": {},
   "outputs": [],
   "source": [
    "# create model and executor\n",
    "save_tree = tree.copy()\n",
    "upmodel = UpLambda(up_fn=up, fuse_fn=norm_product_fuse)\n",
    "upexec = LevelwiseTreeExecutor(upmodel)"
   ]
  },
  {
   "cell_type": "code",
   "execution_count": 10,
   "metadata": {},
   "outputs": [
    {
     "name": "stdout",
     "output_type": "stream",
     "text": [
      "{'type': 0, 'log_sum': 0, 'value': Array([0.9 , 0.08, 0.01, 0.01], dtype=float32)}\n",
      "{'type': 0, 'log_sum': -0.693174301041075, 'value': Array([0.50106907, 0.49893877, 0.50005877, 0.4999312 ], dtype=float32)}\n",
      "{'type': 1, 'log_sum': -0.6933182605237932, 'value': Array([0.502752  , 0.49990755, 0.49741867, 0.49990755], dtype=float32)}\n",
      "{'type': 1, 'log_sum': -0.6934752983495439, 'value': Array([0.502579  , 0.49477488, 0.5028667 , 0.49973714], dtype=float32)}\n",
      "{'type': 1, 'log_sum': -0.6931471805599453, 'value': Array([0.5, 0.5, 0.5, 0.5], dtype=float32)}\n",
      "{'type': 1, 'log_sum': -0.6974035337706067, 'value': Array([0.51368624, 0.49946654, 0.48702434, 0.49946654], dtype=float32)}\n",
      "{'type': 1, 'log_sum': -0.6974035337706067, 'value': Array([0.49946654, 0.48702434, 0.51368624, 0.49946654], dtype=float32)}\n",
      "{'type': 1, 'log_sum': -0.7020160462032011, 'value': Array([0.513321  , 0.486678  , 0.50053364, 0.49911138], dtype=float32)}\n",
      "{'type': 1, 'log_sum': -0.8029619491774246, 'value': Array([0.5, 0.5, 0.5, 0.5], dtype=float32)}\n",
      "{'type': 1, 'log_sum': -0.8029619491774246, 'value': Array([0.5, 0.5, 0.5, 0.5], dtype=float32)}\n",
      "{'type': 1, 'log_sum': -0.8029619491774246, 'value': Array([0.5, 0.5, 0.5, 0.5], dtype=float32)}\n",
      "{'type': 1, 'log_sum': -0.7940729846878954, 'value': Array([0.56637174, 0.49557522, 0.43362832, 0.49557522], dtype=float32)}\n",
      "{'type': 1, 'log_sum': -0.8029619491774246, 'value': Array([0.5, 0.5, 0.5, 0.5], dtype=float32)}\n",
      "{'type': 1, 'log_sum': -0.7940729846878954, 'value': Array([0.49557522, 0.43362832, 0.56637174, 0.49557522], dtype=float32)}\n",
      "{'type': 1, 'log_sum': -0.7940729846878954, 'value': Array([0.49557522, 0.43362832, 0.56637174, 0.49557522], dtype=float32)}\n",
      "{'type': 1, 'log_sum': -0.7940729846878954, 'value': Array([0.56637174, 0.49557522, 0.43362832, 0.49557522], dtype=float32)}\n",
      "{'type': 1, 'log_sum': -2.06758321441056, 'value': Array([0.31622776, 0.6324555 , 0.6324555 , 0.31622776], dtype=float32)}\n",
      "{'type': 1, 'log_sum': -2.06758321441056, 'value': Array([0.6324555 , 0.31622776, 0.31622776, 0.6324555 ], dtype=float32)}\n",
      "{'type': 1, 'log_sum': -2.06758321441056, 'value': Array([0.6324555 , 0.31622776, 0.6324555 , 0.31622776], dtype=float32)}\n",
      "{'type': 1, 'log_sum': -2.06758321441056, 'value': Array([0.31622776, 0.6324555 , 0.31622776, 0.6324555 ], dtype=float32)}\n",
      "{'type': 1, 'log_sum': -2.06758321441056, 'value': Array([0.6324555 , 0.6324555 , 0.31622776, 0.31622776], dtype=float32)}\n",
      "{'type': 1, 'log_sum': -2.06758321441056, 'value': Array([0.31622776, 0.31622776, 0.6324555 , 0.6324555 ], dtype=float32)}\n",
      "{'type': 1, 'log_sum': -2.06758321441056, 'value': Array([0.6324555 , 0.6324555 , 0.31622776, 0.31622776], dtype=float32)}\n",
      "{'type': 1, 'log_sum': -2.06758321441056, 'value': Array([0.6324555 , 0.31622776, 0.31622776, 0.6324555 ], dtype=float32)}\n",
      "{'type': 1, 'log_sum': -2.06758321441056, 'value': Array([0.31622776, 0.31622776, 0.6324555 , 0.6324555 ], dtype=float32)}\n",
      "{'type': 1, 'log_sum': -2.06758321441056, 'value': Array([0.6324555 , 0.6324555 , 0.31622776, 0.31622776], dtype=float32)}\n",
      "{'type': 1, 'log_sum': -2.06758321441056, 'value': Array([0.6324555 , 0.31622776, 0.6324555 , 0.31622776], dtype=float32)}\n",
      "{'type': 1, 'log_sum': -2.06758321441056, 'value': Array([0.31622776, 0.31622776, 0.6324555 , 0.6324555 ], dtype=float32)}\n",
      "{'type': 1, 'log_sum': -2.06758321441056, 'value': Array([0.31622776, 0.31622776, 0.6324555 , 0.6324555 ], dtype=float32)}\n",
      "{'type': 1, 'log_sum': -2.06758321441056, 'value': Array([0.6324555 , 0.31622776, 0.6324555 , 0.31622776], dtype=float32)}\n",
      "{'type': 1, 'log_sum': -2.06758321441056, 'value': Array([0.6324555 , 0.31622776, 0.31622776, 0.6324555 ], dtype=float32)}\n",
      "{'type': 1, 'log_sum': -2.06758321441056, 'value': Array([0.6324555 , 0.6324555 , 0.31622776, 0.31622776], dtype=float32)}\n",
      "{'type': 2, 'log_sum': 0, 'value': Array([0., 1., 0., 0.], dtype=float32)}\n",
      "{'type': 2, 'log_sum': 0, 'value': Array([0., 0., 1., 0.], dtype=float32)}\n",
      "{'type': 2, 'log_sum': 0, 'value': Array([1., 0., 0., 0.], dtype=float32)}\n",
      "{'type': 2, 'log_sum': 0, 'value': Array([0., 0., 0., 1.], dtype=float32)}\n",
      "{'type': 2, 'log_sum': 0, 'value': Array([0., 0., 1., 0.], dtype=float32)}\n",
      "{'type': 2, 'log_sum': 0, 'value': Array([1., 0., 0., 0.], dtype=float32)}\n",
      "{'type': 2, 'log_sum': 0, 'value': Array([0., 1., 0., 0.], dtype=float32)}\n",
      "{'type': 2, 'log_sum': 0, 'value': Array([0., 0., 0., 1.], dtype=float32)}\n",
      "{'type': 2, 'log_sum': 0, 'value': Array([1., 0., 0., 0.], dtype=float32)}\n",
      "{'type': 2, 'log_sum': 0, 'value': Array([0., 1., 0., 0.], dtype=float32)}\n",
      "{'type': 2, 'log_sum': 0, 'value': Array([0., 0., 1., 0.], dtype=float32)}\n",
      "{'type': 2, 'log_sum': 0, 'value': Array([0., 0., 0., 1.], dtype=float32)}\n",
      "{'type': 2, 'log_sum': 0, 'value': Array([1., 0., 0., 0.], dtype=float32)}\n",
      "{'type': 2, 'log_sum': 0, 'value': Array([0., 1., 0., 0.], dtype=float32)}\n",
      "{'type': 2, 'log_sum': 0, 'value': Array([0., 0., 0., 1.], dtype=float32)}\n",
      "{'type': 2, 'log_sum': 0, 'value': Array([1., 0., 0., 0.], dtype=float32)}\n",
      "{'type': 2, 'log_sum': 0, 'value': Array([0., 0., 0., 1.], dtype=float32)}\n",
      "{'type': 2, 'log_sum': 0, 'value': Array([0., 0., 1., 0.], dtype=float32)}\n",
      "{'type': 2, 'log_sum': 0, 'value': Array([0., 1., 0., 0.], dtype=float32)}\n",
      "{'type': 2, 'log_sum': 0, 'value': Array([1., 0., 0., 0.], dtype=float32)}\n",
      "{'type': 2, 'log_sum': 0, 'value': Array([1., 0., 0., 0.], dtype=float32)}\n",
      "{'type': 2, 'log_sum': 0, 'value': Array([0., 0., 1., 0.], dtype=float32)}\n",
      "{'type': 2, 'log_sum': 0, 'value': Array([0., 0., 1., 0.], dtype=float32)}\n",
      "{'type': 2, 'log_sum': 0, 'value': Array([0., 0., 0., 1.], dtype=float32)}\n",
      "{'type': 2, 'log_sum': 0, 'value': Array([0., 0., 0., 1.], dtype=float32)}\n",
      "{'type': 2, 'log_sum': 0, 'value': Array([0., 0., 1., 0.], dtype=float32)}\n",
      "{'type': 2, 'log_sum': 0, 'value': Array([1., 0., 0., 0.], dtype=float32)}\n",
      "{'type': 2, 'log_sum': 0, 'value': Array([0., 0., 1., 0.], dtype=float32)}\n",
      "{'type': 2, 'log_sum': 0, 'value': Array([1., 0., 0., 0.], dtype=float32)}\n",
      "{'type': 2, 'log_sum': 0, 'value': Array([0., 0., 0., 1.], dtype=float32)}\n",
      "{'type': 2, 'log_sum': 0, 'value': Array([0., 1., 0., 0.], dtype=float32)}\n",
      "{'type': 2, 'log_sum': 0, 'value': Array([1., 0., 0., 0.], dtype=float32)}\n"
     ]
    }
   ],
   "source": [
    "# execture backwards filter\n",
    "utree = upexec.up(tree, params.values())\n",
    "\n",
    "# It also normalizes the prior right now so\n",
    "utree.root.data['log_sum'] = 0\n",
    "utree.root.data['value'] = jnp.array([pi1, pi2, pi3, pi4])\n",
    "\n",
    "# print results\n",
    "total_log_sum = 0\n",
    "for node in utree.iter_bfs():\n",
    "    print(node.data)\n",
    "    total_log_sum += node.data['log_sum']\n"
   ]
  },
  {
   "cell_type": "markdown",
   "metadata": {},
   "source": [
    "# Likelihood Computation"
   ]
  },
  {
   "cell_type": "code",
   "execution_count": 11,
   "metadata": {},
   "outputs": [
    {
     "name": "stdout",
     "output_type": "stream",
     "text": [
      "The log-likelihoog is -45.03080363486218\n"
     ]
    }
   ],
   "source": [
    "# Compute Log-Likelihood\n",
    "prior_vec = utree.root.data['value']\n",
    "h0_vec = utree.root.children[0].data['value']\n",
    "\n",
    "log_lik = math.log(jnp.dot(prior_vec, h0_vec)) + total_log_sum\n",
    "print(f\"The log-likelihoog is {log_lik}\")"
   ]
  },
  {
   "cell_type": "markdown",
   "metadata": {},
   "source": [
    "# Likelihood Comparison"
   ]
  },
  {
   "cell_type": "code",
   "execution_count": 12,
   "metadata": {},
   "outputs": [],
   "source": [
    "likelihood = []\n",
    "alpha_range = np.linspace(0.02, 0.32, 100)\n",
    "for new_alpha in alpha_range:\n",
    "    # Update alpha\n",
    "    params['alpha'].update(float(new_alpha), True)\n",
    "\n",
    "    # execture backwards filter\n",
    "    new_tree = upexec.up(save_tree, params.values())\n",
    "\n",
    "    # Compute Log-Likelihood\n",
    "    total_log_sum = 0\n",
    "    for node in new_tree.iter_bfs():\n",
    "        total_log_sum += node.data['log_sum']\n",
    "\n",
    "    # Compute Likelihood\n",
    "    prior_vec = new_tree.root.data['value']\n",
    "    h0_vec = new_tree.root.children[0].data['value']\n",
    "\n",
    "    new_lik = math.log(jnp.dot(prior_vec, h0_vec)) + total_log_sum\n",
    "    likelihood.append(new_lik)\n",
    "params['alpha'].update(true_params['alpha'].value, True)"
   ]
  },
  {
   "cell_type": "code",
   "execution_count": 13,
   "metadata": {},
   "outputs": [
    {
     "data": {
      "image/png": "[encoded data removed]",
      "text/plain": [
       "<Figure size 640x480 with 1 Axes>"
      ]
     },
     "metadata": {},
     "output_type": "display_data"
    }
   ],
   "source": [
    "plt.plot(alpha_range, likelihood)\n",
    "plt.xlabel('alpha')\n",
    "plt.ylabel('Log-Likelihood')\n",
    "plt.grid()\n",
    "plt.savefig(\"JC_LogLike.png\")\n",
    "plt.show()"
   ]
  },
  {
   "cell_type": "code",
   "execution_count": null,
   "metadata": {},
   "outputs": [],
   "source": []
  }
 ],
 "metadata": {
  "kernelspec": {
   "display_name": "Python 3 (ipykernel)",
   "language": "python",
   "name": "python3"
  },
  "language_info": {
   "codemirror_mode": {
    "name": "ipython",
    "version": 3
   },
   "file_extension": ".py",
   "mimetype": "text/x-python",
   "name": "python",
   "nbconvert_exporter": "python",
   "pygments_lexer": "ipython3",
   "version": "3.12.2"
  }
 },
 "nbformat": 4,
 "nbformat_minor": 4
}
