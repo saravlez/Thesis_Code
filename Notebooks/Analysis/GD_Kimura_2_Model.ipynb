{
 "cells": [
  {
   "cell_type": "markdown",
   "metadata": {},
   "source": [
    "# Gradient Descent Kimura 2-Parameter Model\n",
    "\n",
    "Nucleotide substitution model with same probabilities for all transitions, with $\\mathcal{S}$ = $\\{$A, G, C, T$\\}$ and parameter inference for the phylogenetic trees with backwards filtering following https://arxiv.org/abs/2203.04155.\n",
    "\n",
    "The gradient descent algorithm is incomplete at the moment."
   ]
  },
  {
   "cell_type": "code",
   "execution_count": 1,
   "metadata": {},
   "outputs": [],
   "source": [
    "%load_ext autoreload\n",
    "%autoreload 2"
   ]
  },
  {
   "cell_type": "code",
   "execution_count": 2,
   "metadata": {},
   "outputs": [
    {
     "name": "stdout",
     "output_type": "stream",
     "text": [
      "/Users/sara/anaconda3/envs/hyperiax/bin/python\n"
     ]
    }
   ],
   "source": [
    "import sys\n",
    "print(sys.executable)\n",
    "\n",
    "import hyperiax\n",
    "import jax\n",
    "from jax import numpy as jnp\n",
    "from jax.random import PRNGKey, split\n",
    "from hyperiax.tree import HypTree, TreeNode\n",
    "from hyperiax.tree.childrenlist import ChildList\n",
    "from hyperiax.execution import LevelwiseTreeExecutor\n",
    "from hyperiax.models import UpLambda\n",
    "from hyperiax.models.functional import product_fuse_children\n",
    "from hyperiax.mcmc import Parameter, ParameterStore, UniformParameter\n",
    "from hyperiax.mcmc.metropolis_hastings import metropolis_hastings\n",
    "from hyperiax.mcmc.plotting import trace_plots\n",
    "\n",
    "import math\n",
    "import numpy as np\n",
    "from Bio import Phylo\n",
    "from io import StringIO\n",
    "from functools import reduce\n",
    "import matplotlib.pyplot as plt\n",
    "\n",
    "from autograd import grad\n",
    "\n",
    "# create tree and initialize with noise\n",
    "from hyperiax.tree import HypTree, TreeNode\n",
    "from hyperiax.tree.childrenlist import ChildList\n"
   ]
  },
  {
   "cell_type": "code",
   "execution_count": 3,
   "metadata": {},
   "outputs": [],
   "source": [
    "key = PRNGKey(42)"
   ]
  },
  {
   "cell_type": "markdown",
   "metadata": {},
   "source": [
    "Kimura 2-parameters kernel function "
   ]
  },
  {
   "cell_type": "code",
   "execution_count": 4,
   "metadata": {},
   "outputs": [],
   "source": [
    "def kimura2_matrix(alpha, beta):\n",
    "    \"\"\"\n",
    "    Generates the Kimura 2-Parameter transition matrix for given alpha and beta values.\n",
    "\n",
    "    Assume:\n",
    "     i) transitions (A <-> G and C <-> T) have rate alpha,\n",
    "     ii) transversions (A <-> C, A <-> T, G <-> C, G <-> T) have rate beta.\n",
    "\n",
    "    Input:\n",
    "        alpha: The rate of transitions.\n",
    "        beta: The rate of transversions.\n",
    "\n",
    "    Output:\n",
    "        matrix: Kimura 2-Parameter transition matrix.\n",
    "    \"\"\"\n",
    "\n",
    "    # Conditions\n",
    "    if alpha < 0 or beta < 0 or (alpha + 2*beta) > 1:\n",
    "        raise ValueError(\"Alpha and Beta don't follow conditions\")\n",
    "\n",
    "    # 4x4 Transition matrix\n",
    "    matrix = np.array([[1 - alpha - 2 * beta, alpha, beta, beta],\n",
    "                      [alpha, 1 - alpha - 2 * beta, beta, beta],\n",
    "                      [beta, beta, 1 - alpha - 2 * beta, alpha],\n",
    "                      [beta, beta, alpha, 1 - alpha - 2 * beta]])\n",
    "\n",
    "    # Probability Matrix rows check\n",
    "    if not np.allclose(np.sum(matrix, axis=1), 1):\n",
    "        raise ValueError(\"The rows are not equal to 1\")\n",
    "\n",
    "    return matrix"
   ]
  },
  {
   "cell_type": "code",
   "execution_count": 5,
   "metadata": {},
   "outputs": [],
   "source": [
    "# Update Uniform Parameter Class for updates\n",
    "class UniformParameter(Parameter):\n",
    "    def __init__(self, value, min=0., max=1., keep_constant=False) -> None:\n",
    "        super().__init__(value)\n",
    "        self.min = min\n",
    "        self.max = max\n",
    "        self.keep_constant = keep_constant\n",
    "\n",
    "    def propose(self, key):\n",
    "        if self.keep_constant:\n",
    "            return self\n",
    "\n",
    "        return UniformParameter(jax.random.uniform(key, minval=self.min, maxval=self.max), self.min, self.max,\n",
    "                                self.keep_constant)\n",
    "\n",
    "    def update(self, value, accepted):\n",
    "        if accepted:\n",
    "            self.value = value\n",
    "\n",
    "    def log_prior(self):\n",
    "        return 0."
   ]
  },
  {
   "cell_type": "markdown",
   "metadata": {},
   "source": [
    "# Create Tree\n",
    "First, we initialize the tree with for each node the type, value, and log_sum (norm)."
   ]
  },
  {
   "cell_type": "code",
   "execution_count": 6,
   "metadata": {},
   "outputs": [
    {
     "name": "stdout",
     "output_type": "stream",
     "text": [
      "Tree: HypTree with 5 levels and 16 nodes\n",
      "     prior\n",
      "       │\n",
      "       x0\n",
      "   ┌───┴───┐\n",
      "   *       *   \n",
      " ┌─┴─┐   ┌─┴─┐ \n",
      " *   *   *   * \n",
      "┌┴┐ ┌┴┐ ┌┴┐ ┌┴┐\n",
      "A C A T C T T G\n"
     ]
    }
   ],
   "source": [
    "# create tree and initialize with noise\n",
    "from hyperiax.tree import HypTree, TreeNode\n",
    "from hyperiax.tree.childrenlist import ChildList\n",
    "\n",
    "# Initial Newick Tree\n",
    "newick_string = \"(((A,C), (A,T)), ((C, T), (T, G)));\"\n",
    "# newick = Phylo.read(StringIO(newick_string), \"newick\")\n",
    "\n",
    "tree_newick = hyperiax.tree.builders.tree_from_newick(newick_string)\n",
    "# tree_newick = hyperiax.tree.builders.symmetric_tree(h=5, degree=2)\n",
    "\n",
    "# Prior Data\n",
    "prior = TreeNode(); prior.name = \"prior\"\n",
    "# Root Data\n",
    "x0 = tree_newick.root; x0.name = \"x0\"\n",
    "x0.parent = prior; prior.children = ChildList([x0])\n",
    "x0.children = tree_newick.root.children\n",
    "\n",
    "tree = HypTree(prior)\n",
    "print('Tree:', tree)\n",
    "tree.plot_tree_text()\n",
    "\n",
    "# set types to select the right transitions\n",
    "# types\n",
    "troot = 0; tinner_node = 1; tleaf_node = 2\n",
    "\n",
    "for i in tree.iter_bfs():\n",
    "    i['type'] = tinner_node\n",
    "    i['log_sum'] = 0\n",
    "\n",
    "for i in tree.iter_leaves():\n",
    "    i['type'] = tleaf_node\n",
    "\n",
    "tree.root['type'] = troot\n",
    "x0['type'] = troot\n",
    "  \n",
    "# number of states\n",
    "R = 4\n",
    "\n",
    "# root value\n",
    "tree.root['value'] = jnp.zeros(R)\n",
    "\n",
    "# observations, if none then random observations \n",
    "nucleotides = ['A', 'G', 'C', 'T']\n",
    "for i in tree.iter_leaves():\n",
    "    if i.name in nucleotides:\n",
    "        i['value'] = jnp.eye(R)[nucleotides.index(i.name)]\n",
    "    else:\n",
    "        i['value'] = jnp.eye(R)[np.random.choice(4)]\n",
    "        i.name = nucleotides[jnp.argmax(i['value'])]\n",
    "\n",
    "# Number hidden states\n",
    "for i, node in enumerate(tree.iter_bfs(), start=-1):\n",
    "    node.name = f'x_{i}' if node.name is None else f'{node.name}'\n",
    "\n",
    "# root, initial state prior\n",
    "pi1 = 0.9; pi2 = 0.08; pi3 = 0.01; pi4 = 0.01\n",
    "km10 = lambda params: jnp.diag([pi1, pi2, pi3, pi4])\n",
    "\n",
    "# inner node\n",
    "kst = lambda params: kimura2_matrix(params['alpha'], params['beta'])\n",
    "\n",
    "# leaves\n",
    "lambdi = lambda params: jnp.eye(R)\n",
    "\n",
    "# using jax.lax.cond instead of python ifs\n",
    "def transition(value, type, params):\n",
    "    return jax.lax.cond(type == tinner_node,\n",
    "                        lambda: jnp.dot(kst(params), value),\n",
    "                        lambda: jax.lax.cond(type == tleaf_node,\n",
    "                                             lambda: jnp.dot(kst(params), jnp.dot(lambdi(params), value)),\n",
    "                                             lambda: jnp.array([pi1, pi2, pi3, pi4])\n",
    "                                            )\n",
    "                       )"
   ]
  },
  {
   "cell_type": "markdown",
   "metadata": {},
   "source": [
    "Parameters for the kimura transition kernel."
   ]
  },
  {
   "cell_type": "code",
   "execution_count": 7,
   "metadata": {},
   "outputs": [],
   "source": [
    "# parameters, alpha with uniform prior\n",
    "params = ParameterStore({\n",
    "    'alpha': UniformParameter(value=.05),  # alpha parameter for kst (Kimura)\n",
    "    'beta': UniformParameter(value=.15),   # beta parameter for kst (Kimura)\n",
    "})\n",
    "\n",
    "true_params = ParameterStore({\n",
    "    'alpha': UniformParameter(value=.05),  # alpha parameter for kst (Kimura)\n",
    "    'beta': UniformParameter(value=.15),   # beta parameter for kst (Kimura)\n",
    "})"
   ]
  },
  {
   "cell_type": "markdown",
   "metadata": {},
   "source": [
    "We now define the backwards filter through the up and fuse functions. In this case, the up operation is first a matrix multiplication and then a dot product of the children."
   ]
  },
  {
   "cell_type": "code",
   "execution_count": 8,
   "metadata": {},
   "outputs": [],
   "source": [
    "# backwards filter. The operation is vmap'ed over the batch dimension (leading dimension)\n",
    "# @jax.jit\n",
    "def up(value, type, params, **args):\n",
    "    return jax.vmap(lambda value, type: {'value': transition(value, type, params)})(value, type)\n",
    "\n",
    "def norm_product_fuse(**kwargs):\n",
    "    value = reduce(lambda x, y: x * y, kwargs['child_value']).reshape(-1)\n",
    "    new_value = value / jnp.linalg.norm(value)\n",
    "    log_sum = math.log(jnp.linalg.norm(value))\n",
    "    return {'value': new_value, 'log_sum': log_sum}\n"
   ]
  },
  {
   "cell_type": "markdown",
   "metadata": {},
   "source": [
    "We create the model and executor for the backwards filter (up) with the normalized product of the values after joining them."
   ]
  },
  {
   "cell_type": "code",
   "execution_count": 9,
   "metadata": {},
   "outputs": [],
   "source": [
    "# create model and executor\n",
    "save_tree = tree.copy()\n",
    "upmodel = UpLambda(up_fn=up, fuse_fn=norm_product_fuse)\n",
    "upexec = LevelwiseTreeExecutor(upmodel)"
   ]
  },
  {
   "cell_type": "code",
   "execution_count": 10,
   "metadata": {},
   "outputs": [
    {
     "name": "stdout",
     "output_type": "stream",
     "text": [
      "prior\n",
      "{'type': 0, 'log_sum': 0, 'value': Array([0.9 , 0.08, 0.01, 0.01], dtype=float32)}\n",
      "x0\n",
      "{'type': 0, 'log_sum': -1.0951989004641007, 'value': Array([0.6185585 , 0.32203987, 0.32726595, 0.6376305 ], dtype=float32)}\n",
      "x_1\n",
      "{'type': 1, 'log_sum': -1.0093095497920384, 'value': Array([0.90671396, 0.09328599, 0.29083276, 0.29083282], dtype=float32)}\n",
      "x_2\n",
      "{'type': 1, 'log_sum': -0.8648523405059749, 'value': Array([0.19973549, 0.6227047 , 0.23106651, 0.7203839 ], dtype=float32)}\n",
      "x_3\n",
      "{'type': 1, 'log_sum': -1.9783793771074984, 'value': Array([0.70502394, 0.05423261, 0.70502394, 0.05423261], dtype=float32)}\n",
      "x_4\n",
      "{'type': 1, 'log_sum': -1.9783793771074984, 'value': Array([0.70502394, 0.05423261, 0.05423261, 0.70502394], dtype=float32)}\n",
      "x_5\n",
      "{'type': 1, 'log_sum': -2.884160509870688, 'value': Array([0.40249225, 0.40249225, 0.5813777 , 0.5813777 ], dtype=float32)}\n",
      "x_6\n",
      "{'type': 1, 'log_sum': -1.9783793771074984, 'value': Array([0.05423261, 0.70502394, 0.05423261, 0.70502394], dtype=float32)}\n",
      "A\n",
      "{'type': 2, 'log_sum': 0, 'value': Array([1., 0., 0., 0.], dtype=float32)}\n",
      "C\n",
      "{'type': 2, 'log_sum': 0, 'value': Array([0., 0., 1., 0.], dtype=float32)}\n",
      "A\n",
      "{'type': 2, 'log_sum': 0, 'value': Array([1., 0., 0., 0.], dtype=float32)}\n",
      "T\n",
      "{'type': 2, 'log_sum': 0, 'value': Array([0., 0., 0., 1.], dtype=float32)}\n",
      "C\n",
      "{'type': 2, 'log_sum': 0, 'value': Array([0., 0., 1., 0.], dtype=float32)}\n",
      "T\n",
      "{'type': 2, 'log_sum': 0, 'value': Array([0., 0., 0., 1.], dtype=float32)}\n",
      "T\n",
      "{'type': 2, 'log_sum': 0, 'value': Array([0., 0., 0., 1.], dtype=float32)}\n",
      "G\n",
      "{'type': 2, 'log_sum': 0, 'value': Array([0., 1., 0., 0.], dtype=float32)}\n"
     ]
    }
   ],
   "source": [
    "# execture backwards filter\n",
    "utree = upexec.up(tree, params.values())\n",
    "\n",
    "# It also normalizes the prior right now so\n",
    "utree.root.data['log_sum'] = 0\n",
    "utree.root.data['value'] = jnp.array([pi1, pi2, pi3, pi4])\n",
    "\n",
    "# print results\n",
    "total_log_sum = 0\n",
    "for node in utree.iter_bfs():\n",
    "    print(node.name)\n",
    "    print(node.data)\n",
    "    total_log_sum += node.data['log_sum']\n",
    "    "
   ]
  },
  {
   "cell_type": "markdown",
   "metadata": {},
   "source": [
    "# Likelihood Computation\n",
    "We compute the likelihood as the dot product of the prior kernel and the value at the root, plus the norms of the normalized values."
   ]
  },
  {
   "cell_type": "code",
   "execution_count": 11,
   "metadata": {},
   "outputs": [
    {
     "name": "stdout",
     "output_type": "stream",
     "text": [
      "The likelihoog is -12.312714064841247\n"
     ]
    }
   ],
   "source": [
    "# Compute Log-Likelihood\n",
    "prior_vec = utree.root.data['value']\n",
    "h0_vec = utree.root.children[0].data['value']\n",
    "\n",
    "log_lik = math.log(jnp.dot(prior_vec, h0_vec)) + total_log_sum\n",
    "print(f\"The likelihoog is {log_lik}\")"
   ]
  },
  {
   "cell_type": "markdown",
   "metadata": {},
   "source": [
    "# Parameters Comparation\n",
    "Contour plot of log-likelihood results for different combinations of alpha and beta."
   ]
  },
  {
   "cell_type": "code",
   "execution_count": 12,
   "metadata": {},
   "outputs": [],
   "source": [
    "alpha_range = np.linspace(0.02, 0.32, 50)\n",
    "beta_range = np.linspace(0.02, 0.32, 50)\n",
    "likelihoods = np.zeros((len(alpha_range), len(beta_range)))\n",
    "\n",
    "for i, new_alpha in enumerate(alpha_range):\n",
    "    for j, new_beta in enumerate(beta_range):\n",
    "        # Update alpha\n",
    "        params['alpha'].update(float(new_alpha), True)\n",
    "        params['beta'].update(float(new_beta), True)\n",
    "\n",
    "        # create model and executor\n",
    "        upmodel = UpLambda(up_fn=up, fuse_fn=norm_product_fuse)\n",
    "        upexec = LevelwiseTreeExecutor(upmodel)\n",
    "\n",
    "        # execture backwards filter\n",
    "        new_tree = upexec.up(tree, params.values())\n",
    "\n",
    "        # Compute Log-Likelihood\n",
    "        prior_vec = jnp.array([pi1, pi2, pi3, pi4])\n",
    "        h0_vec = new_tree.root.children[0].data['value']\n",
    "        \n",
    "        new_lik = math.log(jnp.dot(prior_vec, h0_vec)) + total_log_sum\n",
    "        likelihoods[i, j] = new_lik"
   ]
  },
  {
   "cell_type": "code",
   "execution_count": 13,
   "metadata": {},
   "outputs": [
    {
     "data": {
      "image/png": "[encoded data removed]",
      "text/plain": [
       "<Figure size 640x480 with 2 Axes>"
      ]
     },
     "metadata": {},
     "output_type": "display_data"
    }
   ],
   "source": [
    "alpha_grid, beta_grid = np.meshgrid(alpha_range, beta_range)\n",
    "\n",
    "plt.figure()\n",
    "levels = np.linspace(np.min(likelihoods), np.max(likelihoods), 75)\n",
    "cp = plt.contourf(alpha_grid, beta_grid, likelihoods.T, cmap='viridis', levels=levels)\n",
    "plt.colorbar(cp)\n",
    "\n",
    "# Plot the true values point\n",
    "plt.scatter(true_params['alpha'].value, true_params['beta'].value, color='black', label='True Value')\n",
    "plt.legend()\n",
    "\n",
    "plt.xlabel('Alpha')\n",
    "plt.ylabel('Beta')\n",
    "plt.title('Log-Likelihood Contour Plot')\n",
    "plt.savefig(\"K2_Contour.png\")\n",
    "plt.show()"
   ]
  },
  {
   "cell_type": "markdown",
   "metadata": {},
   "source": [
    "# Gradient Descent "
   ]
  },
  {
   "cell_type": "code",
   "execution_count": 14,
   "metadata": {},
   "outputs": [
    {
     "ename": "TypeError",
     "evalue": "list indices must be integers or slices, not str",
     "output_type": "error",
     "traceback": [
      "\u001b[0;31m---------------------------------------------------------------------------\u001b[0m",
      "\u001b[0;31mTypeError\u001b[0m                                 Traceback (most recent call last)",
      "Cell \u001b[0;32mIn[14], line 31\u001b[0m\n\u001b[1;32m     29\u001b[0m \u001b[38;5;66;03m# Backward pass\u001b[39;00m\n\u001b[1;32m     30\u001b[0m objective \u001b[38;5;241m=\u001b[39m \u001b[38;5;28;01mlambda\u001b[39;00m params: log_likelihood(save_tree, params, upexec)\n\u001b[0;32m---> 31\u001b[0m gradients \u001b[38;5;241m=\u001b[39m grad(objective)(params\u001b[38;5;241m.\u001b[39mvalues())\n\u001b[1;32m     33\u001b[0m \u001b[38;5;28mprint\u001b[39m(\u001b[38;5;124m\"\u001b[39m\u001b[38;5;124mGradients:\u001b[39m\u001b[38;5;124m\"\u001b[39m)\n\u001b[1;32m     34\u001b[0m \u001b[38;5;28mprint\u001b[39m(gradients)\n",
      "File \u001b[0;32m~/anaconda3/envs/hyperiax/lib/python3.12/site-packages/autograd/wrap_util.py:20\u001b[0m, in \u001b[0;36munary_to_nary.<locals>.nary_operator.<locals>.nary_f\u001b[0;34m(*args, **kwargs)\u001b[0m\n\u001b[1;32m     18\u001b[0m \u001b[38;5;28;01melse\u001b[39;00m:\n\u001b[1;32m     19\u001b[0m     x \u001b[38;5;241m=\u001b[39m \u001b[38;5;28mtuple\u001b[39m(args[i] \u001b[38;5;28;01mfor\u001b[39;00m i \u001b[38;5;129;01min\u001b[39;00m argnum)\n\u001b[0;32m---> 20\u001b[0m \u001b[38;5;28;01mreturn\u001b[39;00m unary_operator(unary_f, x, \u001b[38;5;241m*\u001b[39mnary_op_args, \u001b[38;5;241m*\u001b[39m\u001b[38;5;241m*\u001b[39mnary_op_kwargs)\n",
      "File \u001b[0;32m~/anaconda3/envs/hyperiax/lib/python3.12/site-packages/autograd/differential_operators.py:28\u001b[0m, in \u001b[0;36mgrad\u001b[0;34m(fun, x)\u001b[0m\n\u001b[1;32m     21\u001b[0m \u001b[38;5;129m@unary_to_nary\u001b[39m\n\u001b[1;32m     22\u001b[0m \u001b[38;5;28;01mdef\u001b[39;00m \u001b[38;5;21mgrad\u001b[39m(fun, x):\n\u001b[1;32m     23\u001b[0m \u001b[38;5;250m    \u001b[39m\u001b[38;5;124;03m\"\"\"\u001b[39;00m\n\u001b[1;32m     24\u001b[0m \u001b[38;5;124;03m    Returns a function which computes the gradient of `fun` with respect to\u001b[39;00m\n\u001b[1;32m     25\u001b[0m \u001b[38;5;124;03m    positional argument number `argnum`. The returned function takes the same\u001b[39;00m\n\u001b[1;32m     26\u001b[0m \u001b[38;5;124;03m    arguments as `fun`, but returns the gradient instead. The function `fun`\u001b[39;00m\n\u001b[1;32m     27\u001b[0m \u001b[38;5;124;03m    should be scalar-valued. The gradient has the same type as the argument.\"\"\"\u001b[39;00m\n\u001b[0;32m---> 28\u001b[0m     vjp, ans \u001b[38;5;241m=\u001b[39m _make_vjp(fun, x)\n\u001b[1;32m     29\u001b[0m     \u001b[38;5;28;01mif\u001b[39;00m \u001b[38;5;129;01mnot\u001b[39;00m vspace(ans)\u001b[38;5;241m.\u001b[39msize \u001b[38;5;241m==\u001b[39m \u001b[38;5;241m1\u001b[39m:\n\u001b[1;32m     30\u001b[0m         \u001b[38;5;28;01mraise\u001b[39;00m \u001b[38;5;167;01mTypeError\u001b[39;00m(\u001b[38;5;124m\"\u001b[39m\u001b[38;5;124mGrad only applies to real scalar-output functions. \u001b[39m\u001b[38;5;124m\"\u001b[39m\n\u001b[1;32m     31\u001b[0m                         \u001b[38;5;124m\"\u001b[39m\u001b[38;5;124mTry jacobian, elementwise_grad or holomorphic_grad.\u001b[39m\u001b[38;5;124m\"\u001b[39m)\n",
      "File \u001b[0;32m~/anaconda3/envs/hyperiax/lib/python3.12/site-packages/autograd/core.py:10\u001b[0m, in \u001b[0;36mmake_vjp\u001b[0;34m(fun, x)\u001b[0m\n\u001b[1;32m      8\u001b[0m \u001b[38;5;28;01mdef\u001b[39;00m \u001b[38;5;21mmake_vjp\u001b[39m(fun, x):\n\u001b[1;32m      9\u001b[0m     start_node \u001b[38;5;241m=\u001b[39m VJPNode\u001b[38;5;241m.\u001b[39mnew_root()\n\u001b[0;32m---> 10\u001b[0m     end_value, end_node \u001b[38;5;241m=\u001b[39m  trace(start_node, fun, x)\n\u001b[1;32m     11\u001b[0m     \u001b[38;5;28;01mif\u001b[39;00m end_node \u001b[38;5;129;01mis\u001b[39;00m \u001b[38;5;28;01mNone\u001b[39;00m:\n\u001b[1;32m     12\u001b[0m         \u001b[38;5;28;01mdef\u001b[39;00m \u001b[38;5;21mvjp\u001b[39m(g): \u001b[38;5;28;01mreturn\u001b[39;00m vspace(x)\u001b[38;5;241m.\u001b[39mzeros()\n",
      "File \u001b[0;32m~/anaconda3/envs/hyperiax/lib/python3.12/site-packages/autograd/tracer.py:10\u001b[0m, in \u001b[0;36mtrace\u001b[0;34m(start_node, fun, x)\u001b[0m\n\u001b[1;32m      8\u001b[0m \u001b[38;5;28;01mwith\u001b[39;00m trace_stack\u001b[38;5;241m.\u001b[39mnew_trace() \u001b[38;5;28;01mas\u001b[39;00m t:\n\u001b[1;32m      9\u001b[0m     start_box \u001b[38;5;241m=\u001b[39m new_box(x, t, start_node)\n\u001b[0;32m---> 10\u001b[0m     end_box \u001b[38;5;241m=\u001b[39m fun(start_box)\n\u001b[1;32m     11\u001b[0m     \u001b[38;5;28;01mif\u001b[39;00m isbox(end_box) \u001b[38;5;129;01mand\u001b[39;00m end_box\u001b[38;5;241m.\u001b[39m_trace \u001b[38;5;241m==\u001b[39m start_box\u001b[38;5;241m.\u001b[39m_trace:\n\u001b[1;32m     12\u001b[0m         \u001b[38;5;28;01mreturn\u001b[39;00m end_box\u001b[38;5;241m.\u001b[39m_value, end_box\u001b[38;5;241m.\u001b[39m_node\n",
      "File \u001b[0;32m~/anaconda3/envs/hyperiax/lib/python3.12/site-packages/autograd/wrap_util.py:15\u001b[0m, in \u001b[0;36munary_to_nary.<locals>.nary_operator.<locals>.nary_f.<locals>.unary_f\u001b[0;34m(x)\u001b[0m\n\u001b[1;32m     13\u001b[0m \u001b[38;5;28;01melse\u001b[39;00m:\n\u001b[1;32m     14\u001b[0m     subargs \u001b[38;5;241m=\u001b[39m subvals(args, \u001b[38;5;28mzip\u001b[39m(argnum, x))\n\u001b[0;32m---> 15\u001b[0m \u001b[38;5;28;01mreturn\u001b[39;00m fun(\u001b[38;5;241m*\u001b[39msubargs, \u001b[38;5;241m*\u001b[39m\u001b[38;5;241m*\u001b[39mkwargs)\n",
      "Cell \u001b[0;32mIn[14], line 30\u001b[0m, in \u001b[0;36m<lambda>\u001b[0;34m(params)\u001b[0m\n\u001b[1;32m     27\u001b[0m     \u001b[38;5;28;01mreturn\u001b[39;00m log_like\n\u001b[1;32m     29\u001b[0m \u001b[38;5;66;03m# Backward pass\u001b[39;00m\n\u001b[0;32m---> 30\u001b[0m objective \u001b[38;5;241m=\u001b[39m \u001b[38;5;28;01mlambda\u001b[39;00m params: log_likelihood(save_tree, params, upexec)\n\u001b[1;32m     31\u001b[0m gradients \u001b[38;5;241m=\u001b[39m grad(objective)(params\u001b[38;5;241m.\u001b[39mvalues())\n\u001b[1;32m     33\u001b[0m \u001b[38;5;28mprint\u001b[39m(\u001b[38;5;124m\"\u001b[39m\u001b[38;5;124mGradients:\u001b[39m\u001b[38;5;124m\"\u001b[39m)\n",
      "Cell \u001b[0;32mIn[14], line 16\u001b[0m, in \u001b[0;36mlog_likelihood\u001b[0;34m(save_tree, params, upexec)\u001b[0m\n\u001b[1;32m     14\u001b[0m \u001b[38;5;28;01mdef\u001b[39;00m \u001b[38;5;21mlog_likelihood\u001b[39m(save_tree, params, upexec):\n\u001b[1;32m     15\u001b[0m     \u001b[38;5;66;03m# new_tree = tree.copy(); init_up(new_tree)\u001b[39;00m\n\u001b[0;32m---> 16\u001b[0m     new_tree \u001b[38;5;241m=\u001b[39m upexec\u001b[38;5;241m.\u001b[39mup(save_tree, params\u001b[38;5;241m.\u001b[39mvalues())\n\u001b[1;32m     17\u001b[0m     \u001b[38;5;66;03m# Compute Sum to Add\u001b[39;00m\n\u001b[1;32m     18\u001b[0m     total_log_sum \u001b[38;5;241m=\u001b[39m \u001b[38;5;241m0\u001b[39m\n",
      "File \u001b[0;32m~/anaconda3/envs/hyperiax/lib/python3.12/site-packages/hyperiax/execution/executor.py:113\u001b[0m, in \u001b[0;36mOrderedExecutor.up\u001b[0;34m(self, tree, params)\u001b[0m\n\u001b[1;32m    109\u001b[0m data \u001b[38;5;241m=\u001b[39m dict_collate([node\u001b[38;5;241m.\u001b[39mdata \u001b[38;5;28;01mfor\u001b[39;00m node \u001b[38;5;129;01min\u001b[39;00m nodes])\n\u001b[1;32m    111\u001b[0m \u001b[38;5;28mself\u001b[39m\u001b[38;5;241m.\u001b[39mkey, subkey \u001b[38;5;241m=\u001b[39m jax\u001b[38;5;241m.\u001b[39mrandom\u001b[38;5;241m.\u001b[39msplit(\u001b[38;5;28mself\u001b[39m\u001b[38;5;241m.\u001b[39mkey)\n\u001b[0;32m--> 113\u001b[0m results \u001b[38;5;241m=\u001b[39m \u001b[38;5;28mself\u001b[39m\u001b[38;5;241m.\u001b[39mmodel\u001b[38;5;241m.\u001b[39mup(\u001b[38;5;241m*\u001b[39m\u001b[38;5;241m*\u001b[39mdata, key\u001b[38;5;241m=\u001b[39msubkey, params\u001b[38;5;241m=\u001b[39mparams)\n\u001b[1;32m    114\u001b[0m iterator \u001b[38;5;241m=\u001b[39m \u001b[38;5;28mzip\u001b[39m(nodes, DictTransposer(results), strict \u001b[38;5;241m=\u001b[39m \u001b[38;5;28;01mTrue\u001b[39;00m)\n\u001b[1;32m    115\u001b[0m \u001b[38;5;28;01mtry\u001b[39;00m:\n",
      "File \u001b[0;32m~/anaconda3/envs/hyperiax/lib/python3.12/site-packages/hyperiax/models/lambdamodels.py:16\u001b[0m, in \u001b[0;36mUpLambda.up\u001b[0;34m(self, *args, **kwargs)\u001b[0m\n\u001b[1;32m     15\u001b[0m \u001b[38;5;28;01mdef\u001b[39;00m \u001b[38;5;21mup\u001b[39m(\u001b[38;5;28mself\u001b[39m, \u001b[38;5;241m*\u001b[39margs, \u001b[38;5;241m*\u001b[39m\u001b[38;5;241m*\u001b[39mkwargs):\n\u001b[0;32m---> 16\u001b[0m     \u001b[38;5;28;01mreturn\u001b[39;00m \u001b[38;5;28mself\u001b[39m\u001b[38;5;241m.\u001b[39mup_fn(\u001b[38;5;241m*\u001b[39margs, \u001b[38;5;241m*\u001b[39m\u001b[38;5;241m*\u001b[39mkwargs)\n",
      "Cell \u001b[0;32mIn[8], line 4\u001b[0m, in \u001b[0;36mup\u001b[0;34m(value, type, params, **args)\u001b[0m\n\u001b[1;32m      3\u001b[0m \u001b[38;5;28;01mdef\u001b[39;00m \u001b[38;5;21mup\u001b[39m(value, \u001b[38;5;28mtype\u001b[39m, params, \u001b[38;5;241m*\u001b[39m\u001b[38;5;241m*\u001b[39margs):\n\u001b[0;32m----> 4\u001b[0m     \u001b[38;5;28;01mreturn\u001b[39;00m jax\u001b[38;5;241m.\u001b[39mvmap(\u001b[38;5;28;01mlambda\u001b[39;00m value, \u001b[38;5;28mtype\u001b[39m: {\u001b[38;5;124m'\u001b[39m\u001b[38;5;124mvalue\u001b[39m\u001b[38;5;124m'\u001b[39m: transition(value, \u001b[38;5;28mtype\u001b[39m, params)})(value, \u001b[38;5;28mtype\u001b[39m)\n",
      "    \u001b[0;31m[... skipping hidden 3 frame]\u001b[0m\n",
      "Cell \u001b[0;32mIn[8], line 4\u001b[0m, in \u001b[0;36mup.<locals>.<lambda>\u001b[0;34m(value, type)\u001b[0m\n\u001b[1;32m      3\u001b[0m \u001b[38;5;28;01mdef\u001b[39;00m \u001b[38;5;21mup\u001b[39m(value, \u001b[38;5;28mtype\u001b[39m, params, \u001b[38;5;241m*\u001b[39m\u001b[38;5;241m*\u001b[39margs):\n\u001b[0;32m----> 4\u001b[0m     \u001b[38;5;28;01mreturn\u001b[39;00m jax\u001b[38;5;241m.\u001b[39mvmap(\u001b[38;5;28;01mlambda\u001b[39;00m value, \u001b[38;5;28mtype\u001b[39m: {\u001b[38;5;124m'\u001b[39m\u001b[38;5;124mvalue\u001b[39m\u001b[38;5;124m'\u001b[39m: transition(value, \u001b[38;5;28mtype\u001b[39m, params)})(value, \u001b[38;5;28mtype\u001b[39m)\n",
      "Cell \u001b[0;32mIn[6], line 68\u001b[0m, in \u001b[0;36mtransition\u001b[0;34m(value, type, params)\u001b[0m\n\u001b[1;32m     67\u001b[0m \u001b[38;5;28;01mdef\u001b[39;00m \u001b[38;5;21mtransition\u001b[39m(value, \u001b[38;5;28mtype\u001b[39m, params):\n\u001b[0;32m---> 68\u001b[0m     \u001b[38;5;28;01mreturn\u001b[39;00m jax\u001b[38;5;241m.\u001b[39mlax\u001b[38;5;241m.\u001b[39mcond(\u001b[38;5;28mtype\u001b[39m \u001b[38;5;241m==\u001b[39m tinner_node,\n\u001b[1;32m     69\u001b[0m                         \u001b[38;5;28;01mlambda\u001b[39;00m: jnp\u001b[38;5;241m.\u001b[39mdot(kst(params), value),\n\u001b[1;32m     70\u001b[0m                         \u001b[38;5;28;01mlambda\u001b[39;00m: jax\u001b[38;5;241m.\u001b[39mlax\u001b[38;5;241m.\u001b[39mcond(\u001b[38;5;28mtype\u001b[39m \u001b[38;5;241m==\u001b[39m tleaf_node,\n\u001b[1;32m     71\u001b[0m                                              \u001b[38;5;28;01mlambda\u001b[39;00m: jnp\u001b[38;5;241m.\u001b[39mdot(kst(params), jnp\u001b[38;5;241m.\u001b[39mdot(lambdi(params), value)),\n\u001b[1;32m     72\u001b[0m                                              \u001b[38;5;28;01mlambda\u001b[39;00m: jnp\u001b[38;5;241m.\u001b[39marray([pi1, pi2, pi3, pi4])\n\u001b[1;32m     73\u001b[0m                                             )\n\u001b[1;32m     74\u001b[0m                        )\n",
      "    \u001b[0;31m[... skipping hidden 13 frame]\u001b[0m\n",
      "Cell \u001b[0;32mIn[6], line 69\u001b[0m, in \u001b[0;36mtransition.<locals>.<lambda>\u001b[0;34m()\u001b[0m\n\u001b[1;32m     67\u001b[0m \u001b[38;5;28;01mdef\u001b[39;00m \u001b[38;5;21mtransition\u001b[39m(value, \u001b[38;5;28mtype\u001b[39m, params):\n\u001b[1;32m     68\u001b[0m     \u001b[38;5;28;01mreturn\u001b[39;00m jax\u001b[38;5;241m.\u001b[39mlax\u001b[38;5;241m.\u001b[39mcond(\u001b[38;5;28mtype\u001b[39m \u001b[38;5;241m==\u001b[39m tinner_node,\n\u001b[0;32m---> 69\u001b[0m                         \u001b[38;5;28;01mlambda\u001b[39;00m: jnp\u001b[38;5;241m.\u001b[39mdot(kst(params), value),\n\u001b[1;32m     70\u001b[0m                         \u001b[38;5;28;01mlambda\u001b[39;00m: jax\u001b[38;5;241m.\u001b[39mlax\u001b[38;5;241m.\u001b[39mcond(\u001b[38;5;28mtype\u001b[39m \u001b[38;5;241m==\u001b[39m tleaf_node,\n\u001b[1;32m     71\u001b[0m                                              \u001b[38;5;28;01mlambda\u001b[39;00m: jnp\u001b[38;5;241m.\u001b[39mdot(kst(params), jnp\u001b[38;5;241m.\u001b[39mdot(lambdi(params), value)),\n\u001b[1;32m     72\u001b[0m                                              \u001b[38;5;28;01mlambda\u001b[39;00m: jnp\u001b[38;5;241m.\u001b[39marray([pi1, pi2, pi3, pi4])\n\u001b[1;32m     73\u001b[0m                                             )\n\u001b[1;32m     74\u001b[0m                        )\n",
      "Cell \u001b[0;32mIn[6], line 61\u001b[0m, in \u001b[0;36m<lambda>\u001b[0;34m(params)\u001b[0m\n\u001b[1;32m     58\u001b[0m km10 \u001b[38;5;241m=\u001b[39m \u001b[38;5;28;01mlambda\u001b[39;00m params: jnp\u001b[38;5;241m.\u001b[39mdiag([pi1, pi2, pi3, pi4])\n\u001b[1;32m     60\u001b[0m \u001b[38;5;66;03m# inner node\u001b[39;00m\n\u001b[0;32m---> 61\u001b[0m kst \u001b[38;5;241m=\u001b[39m \u001b[38;5;28;01mlambda\u001b[39;00m params: kimura2_matrix(params[\u001b[38;5;124m'\u001b[39m\u001b[38;5;124malpha\u001b[39m\u001b[38;5;124m'\u001b[39m], params[\u001b[38;5;124m'\u001b[39m\u001b[38;5;124mbeta\u001b[39m\u001b[38;5;124m'\u001b[39m])\n\u001b[1;32m     63\u001b[0m \u001b[38;5;66;03m# leaves\u001b[39;00m\n\u001b[1;32m     64\u001b[0m lambdi \u001b[38;5;241m=\u001b[39m \u001b[38;5;28;01mlambda\u001b[39;00m params: jnp\u001b[38;5;241m.\u001b[39meye(R)\n",
      "File \u001b[0;32m~/anaconda3/envs/hyperiax/lib/python3.12/site-packages/autograd/tracer.py:44\u001b[0m, in \u001b[0;36mprimitive.<locals>.f_wrapped\u001b[0;34m(*args, **kwargs)\u001b[0m\n\u001b[1;32m     42\u001b[0m parents \u001b[38;5;241m=\u001b[39m \u001b[38;5;28mtuple\u001b[39m(box\u001b[38;5;241m.\u001b[39m_node \u001b[38;5;28;01mfor\u001b[39;00m _     , box \u001b[38;5;129;01min\u001b[39;00m boxed_args)\n\u001b[1;32m     43\u001b[0m argnums \u001b[38;5;241m=\u001b[39m \u001b[38;5;28mtuple\u001b[39m(argnum    \u001b[38;5;28;01mfor\u001b[39;00m argnum, _   \u001b[38;5;129;01min\u001b[39;00m boxed_args)\n\u001b[0;32m---> 44\u001b[0m ans \u001b[38;5;241m=\u001b[39m f_wrapped(\u001b[38;5;241m*\u001b[39margvals, \u001b[38;5;241m*\u001b[39m\u001b[38;5;241m*\u001b[39mkwargs)\n\u001b[1;32m     45\u001b[0m node \u001b[38;5;241m=\u001b[39m node_constructor(ans, f_wrapped, argvals, kwargs, argnums, parents)\n\u001b[1;32m     46\u001b[0m \u001b[38;5;28;01mreturn\u001b[39;00m new_box(ans, trace, node)\n",
      "File \u001b[0;32m~/anaconda3/envs/hyperiax/lib/python3.12/site-packages/autograd/tracer.py:48\u001b[0m, in \u001b[0;36mprimitive.<locals>.f_wrapped\u001b[0;34m(*args, **kwargs)\u001b[0m\n\u001b[1;32m     46\u001b[0m     \u001b[38;5;28;01mreturn\u001b[39;00m new_box(ans, trace, node)\n\u001b[1;32m     47\u001b[0m \u001b[38;5;28;01melse\u001b[39;00m:\n\u001b[0;32m---> 48\u001b[0m     \u001b[38;5;28;01mreturn\u001b[39;00m f_raw(\u001b[38;5;241m*\u001b[39margs, \u001b[38;5;241m*\u001b[39m\u001b[38;5;241m*\u001b[39mkwargs)\n",
      "File \u001b[0;32m~/anaconda3/envs/hyperiax/lib/python3.12/site-packages/autograd/builtins.py:17\u001b[0m, in \u001b[0;36mcontainer_take\u001b[0;34m(A, idx)\u001b[0m\n\u001b[1;32m     15\u001b[0m \u001b[38;5;129m@primitive\u001b[39m\n\u001b[1;32m     16\u001b[0m \u001b[38;5;28;01mdef\u001b[39;00m \u001b[38;5;21mcontainer_take\u001b[39m(A, idx):\n\u001b[0;32m---> 17\u001b[0m     \u001b[38;5;28;01mreturn\u001b[39;00m A[idx]\n",
      "\u001b[0;31mTypeError\u001b[0m: list indices must be integers or slices, not str"
     ]
    }
   ],
   "source": [
    "# With Error\n",
    "import autograd.numpy as anp\n",
    "from autograd import grad\n",
    "\n",
    "def init_up(tree):\n",
    "    for node in tree.iter_bfs():\n",
    "        if node.children and node.parent:\n",
    "            node.data['log_sum'] = 0\n",
    "            node.data['value'] = jnp.zeros(R)\n",
    "        else:\n",
    "            node.data = {**node.data, 'value': node['value'], 'log_sum': 0}\n",
    "    \n",
    "\n",
    "def log_likelihood(save_tree, params, upexec):\n",
    "    # new_tree = tree.copy(); init_up(new_tree)\n",
    "    new_tree = upexec.up(save_tree, params.values())\n",
    "    # Compute Sum to Add\n",
    "    total_log_sum = 0\n",
    "    for node in new_tree.iter_bfs():\n",
    "        total_log_sum += node.data['log_sum']\n",
    "\n",
    "    # Compute Log-Likelihood\n",
    "    prior_vec = new_tree.root.data['value']\n",
    "    h0_vec = new_tree.root.children[0].data['value']\n",
    "\n",
    "    log_like = math.log(jnp.dot(prior_vec, h0_vec)) + total_log_sum\n",
    "    return log_like\n",
    "\n",
    "# Backward pass\n",
    "objective = lambda params: log_likelihood(save_tree, params, upexec)\n",
    "gradients = grad(objective)(params.values())\n",
    "\n",
    "print(\"Gradients:\")\n",
    "print(gradients)\n",
    "\n",
    "# Optimize"
   ]
  },
  {
   "cell_type": "code",
   "execution_count": null,
   "metadata": {},
   "outputs": [],
   "source": []
  }
 ],
 "metadata": {
  "kernelspec": {
   "display_name": "Python 3 (ipykernel)",
   "language": "python",
   "name": "python3"
  },
  "language_info": {
   "codemirror_mode": {
    "name": "ipython",
    "version": 3
   },
   "file_extension": ".py",
   "mimetype": "text/x-python",
   "name": "python",
   "nbconvert_exporter": "python",
   "pygments_lexer": "ipython3",
   "version": "3.12.2"
  }
 },
 "nbformat": 4,
 "nbformat_minor": 4
}
