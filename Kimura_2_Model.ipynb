{
 "cells": [
  {
   "cell_type": "markdown",
   "metadata": {},
   "source": [
    "# Kimura 2-Parameter Model  \n",
    "Nucleotide substitution model with same probabilities for transitions of $\\mathcal{S}$ = $\\{$A, G, C, T$\\}$ and parameter inference for trees with backwards filtering following https://arxiv.org/abs/2203.04155."
   ]
  },
  {
   "cell_type": "code",
   "execution_count": 1,
   "metadata": {},
   "outputs": [],
   "source": [
    "%load_ext autoreload\n",
    "%autoreload 2"
   ]
  },
  {
   "cell_type": "code",
   "execution_count": 2,
   "metadata": {},
   "outputs": [
    {
     "name": "stdout",
     "output_type": "stream",
     "text": [
      "/Users/sara/anaconda3/envs/hyperiax/bin/python\n"
     ]
    }
   ],
   "source": [
    "import sys\n",
    "print(sys.executable)\n",
    "\n",
    "from jax.random import PRNGKey, split\n",
    "import hyperiax\n",
    "import jax\n",
    "from jax import numpy as jnp\n",
    "from hyperiax.tree import HypTree, TreeNode\n",
    "from hyperiax.tree.childrenlist import ChildList\n",
    "from hyperiax.execution import LevelwiseTreeExecutor\n",
    "from hyperiax.models import UpLambda\n",
    "from hyperiax.models.functional import product_fuse_children\n",
    "from hyperiax.mcmc import Parameter, ParameterStore, UniformParameter\n",
    "from hyperiax.mcmc.metropolis_hastings import metropolis_hastings\n",
    "from hyperiax.mcmc.plotting import trace_plots\n",
    "\n",
    "import matplotlib.pyplot as plt\n",
    "from tqdm import tqdm\n",
    "\n",
    "import math\n",
    "import numpy as np\n",
    "from Bio import Phylo\n",
    "from io import StringIO\n",
    "from functools import reduce"
   ]
  },
  {
   "cell_type": "code",
   "execution_count": 3,
   "metadata": {},
   "outputs": [],
   "source": [
    "key = PRNGKey(42)"
   ]
  },
  {
   "cell_type": "code",
   "execution_count": 4,
   "metadata": {},
   "outputs": [],
   "source": [
    "# Updated Uniform Parameter Class\n",
    "class UniformParameter(Parameter):\n",
    "    def __init__(self, value, min=0., max=1., keep_constant=False) -> None:\n",
    "        super().__init__(value)\n",
    "        self.min = min\n",
    "        self.max = max\n",
    "        self.keep_constant = keep_constant\n",
    "\n",
    "    def propose(self, key):\n",
    "        if self.keep_constant:\n",
    "            return self\n",
    "\n",
    "        return UniformParameter(jax.random.uniform(key, minval=self.min, maxval=self.max), self.min, self.max,\n",
    "                                self.keep_constant)\n",
    "\n",
    "    def update(self, value, accepted):\n",
    "        if accepted:\n",
    "            self.value = value\n",
    "\n",
    "    def log_prior(self):\n",
    "        return 0."
   ]
  },
  {
   "cell_type": "markdown",
   "metadata": {},
   "source": [
    "Kimura 2-parameters kernel function "
   ]
  },
  {
   "cell_type": "code",
   "execution_count": 5,
   "metadata": {},
   "outputs": [],
   "source": [
    "def kimura2_matrix(alpha, beta):\n",
    "    \"\"\"\n",
    "    Generates the Kimura 2-Parameter transition matrix for given alpha and beta values.\n",
    "\n",
    "    Assume:\n",
    "     i) transitions (A <-> G and C <-> T) have rate alpha,\n",
    "     ii) transversions (A <-> C, A <-> T, G <-> C, G <-> T) have rate beta.\n",
    "\n",
    "    Input:\n",
    "        alpha: The rate of transitions.\n",
    "        beta: The rate of transversions.\n",
    "\n",
    "    Output:\n",
    "        matrix: Kimura 2-Parameter transition matrix.\n",
    "    \"\"\"\n",
    "\n",
    "    # Conditions\n",
    "    if alpha < 0 or beta < 0 or (alpha + 2*beta) > 1:\n",
    "        raise ValueError(\"Alpha and Beta don't follow conditions\")\n",
    "\n",
    "    # 4x4 Transition matrix\n",
    "    matrix = np.array([[1 - alpha - 2 * beta, alpha, beta, beta],\n",
    "                      [alpha, 1 - alpha - 2 * beta, beta, beta],\n",
    "                      [beta, beta, 1 - alpha - 2 * beta, alpha],\n",
    "                      [beta, beta, alpha, 1 - alpha - 2 * beta]])\n",
    "\n",
    "    # Probability Matrix rows check\n",
    "    if not np.allclose(np.sum(matrix, axis=1), 1):\n",
    "        raise ValueError(\"The rows are not equal to 1\")\n",
    "\n",
    "    return matrix"
   ]
  },
  {
   "cell_type": "markdown",
   "metadata": {},
   "source": [
    "# Tree Set Up\n",
    "First, we initialize the tree with for each node the type, value, and log_sum (norm)."
   ]
  },
  {
   "cell_type": "code",
   "execution_count": 6,
   "metadata": {},
   "outputs": [
    {
     "name": "stdout",
     "output_type": "stream",
     "text": [
      "Tree: HypTree with 5 levels and 16 nodes\n"
     ]
    },
    {
     "data": {
      "image/png": "[encoded data removed]",
      "text/plain": [
       "<Figure size 640x480 with 1 Axes>"
      ]
     },
     "metadata": {},
     "output_type": "display_data"
    }
   ],
   "source": [
    "# Initial Newick Tree\n",
    "newick_string = \"(((A,C), (A,T)), ((C, T), (T, G)));\"\n",
    "tree_newick = hyperiax.tree.builders.tree_from_newick(newick_string)\n",
    "# newick = Phylo.read(StringIO(newick_string), \"newick\")\n",
    "\n",
    "# For random symmetric trees \n",
    "# tree_symm = hyperiax.tree.builders.symmetric_tree(h=5, degree=2)\n",
    "\n",
    "# Prior Node\n",
    "prior = TreeNode(); prior.name = \"prior\"\n",
    "\n",
    "# Root Node\n",
    "x0 = tree_newick.root; x0.name = \"x0\"\n",
    "x0.parent = prior; prior.children = ChildList([x0])\n",
    "x0.children = tree_newick.root.children\n",
    "\n",
    "# Create the tree\n",
    "tree = HypTree(prior)\n",
    "print('Tree:', tree)\n",
    "\n",
    "# types and initialize log sum to zero\n",
    "troot = 0; tinner_node = 1; tleaf_node = 2\n",
    "\n",
    "for i in tree.iter_bfs():\n",
    "    i['type'] = tinner_node\n",
    "    i['log_sum'] = 0\n",
    "\n",
    "for i in tree.iter_leaves():\n",
    "    i['type'] = tleaf_node\n",
    "\n",
    "tree.root['type'] = troot\n",
    "x0['type'] = troot\n",
    "  \n",
    "# number of states\n",
    "R = 4\n",
    "\n",
    "# root value\n",
    "tree.root['value'] = jnp.zeros(R)\n",
    "\n",
    "# observations, if none then create random observations \n",
    "nucleotides = ['A', 'G', 'C', 'T']\n",
    "for i in tree.iter_leaves():\n",
    "    if i.name in nucleotides:\n",
    "        i['value'] = jnp.eye(R)[nucleotides.index(i.name)]\n",
    "    else:\n",
    "        i['value'] = jnp.eye(R)[np.random.choice(4)]\n",
    "        i.name = nucleotides[jnp.argmax(i['value'])]\n",
    "\n",
    "# Save tree figure \n",
    "Phylo.draw(Phylo.read(StringIO(tree.to_newick()), \"newick\"), branch_labels=lambda c: c.branch_length, do_show=False)\n",
    "plt.savefig('K_Tree.png')\n",
    "\n",
    "# Name hidden states with numbers\n",
    "for i, node in enumerate(tree.iter_bfs(), start=-1):\n",
    "    node.name = f'x_{i}' if node.name is None else f'{node.name}'\n",
    "\n",
    "# prior kernel\n",
    "pi1 = 0.9; pi2 = 0.08; pi3 = 0.01; pi4 = 0.01\n",
    "km10 = lambda params: jnp.diag([pi1, pi2, pi3, pi4])\n",
    "\n",
    "# inner node kernel\n",
    "kst = lambda params: kimura2_matrix(params['alpha'], params['beta'])\n",
    "\n",
    "# leaves kernel\n",
    "lambdi = lambda params: jnp.eye(R)\n",
    "\n",
    "# transition function for each kernel\n",
    "def transition(value, type, params):\n",
    "    return jax.lax.cond(type == tinner_node,\n",
    "                        lambda: jnp.dot(kst(params), value),\n",
    "                        lambda: jax.lax.cond(type == tleaf_node,\n",
    "                                             lambda: jnp.dot(kst(params), jnp.dot(lambdi(params), value)),\n",
    "                                             lambda: jnp.array([pi1, pi2, pi3, pi4])\n",
    "                                            )\n",
    "                       )"
   ]
  },
  {
   "cell_type": "markdown",
   "metadata": {},
   "source": [
    "Parameters for the kimura transition kernel."
   ]
  },
  {
   "cell_type": "code",
   "execution_count": 7,
   "metadata": {},
   "outputs": [],
   "source": [
    "# parameters, alpha with uniform prior\n",
    "params = ParameterStore({\n",
    "    'alpha': UniformParameter(value=.05),  # alpha parameter for kst (Kimura)\n",
    "    'beta': UniformParameter(value=.15),   # beta parameter for kst (Kimura)\n",
    "})\n",
    "\n",
    "# Save true params for later use\n",
    "true_params = ParameterStore({\n",
    "    'alpha': UniformParameter(value=.05), \n",
    "    'beta': UniformParameter(value=.15),   \n",
    "})"
   ]
  },
  {
   "cell_type": "markdown",
   "metadata": {},
   "source": [
    "We now define the backwards filter through the up and fuse functions. In this case, the up operation is first a matrix multiplication and then a dot product of the children."
   ]
  },
  {
   "cell_type": "code",
   "execution_count": 8,
   "metadata": {},
   "outputs": [],
   "source": [
    "# backwards filter with normalized product\n",
    "def up(value, type, params, **args):\n",
    "    return jax.vmap(lambda value, type: {'value': transition(value, type, params)})(value, type)\n",
    "\n",
    "def norm_product_fuse(**kwargs):\n",
    "    value = reduce(lambda x, y: x * y, kwargs['child_value']).reshape(-1)\n",
    "    new_value = value / jnp.linalg.norm(value)\n",
    "    log_sum = math.log(jnp.linalg.norm(value))\n",
    "    return {'value': new_value, 'log_sum': log_sum}"
   ]
  },
  {
   "cell_type": "markdown",
   "metadata": {},
   "source": [
    "We create the model and executor for the backwards filter (up) with the normalized product of the values after joining them."
   ]
  },
  {
   "cell_type": "code",
   "execution_count": 9,
   "metadata": {},
   "outputs": [],
   "source": [
    "# create model and executor\n",
    "save_tree = tree.copy()\n",
    "upmodel = UpLambda(up_fn=up, fuse_fn=norm_product_fuse)\n",
    "upexec = LevelwiseTreeExecutor(upmodel)"
   ]
  },
  {
   "cell_type": "code",
   "execution_count": 10,
   "metadata": {},
   "outputs": [
    {
     "name": "stdout",
     "output_type": "stream",
     "text": [
      "{'type': 0, 'log_sum': 0, 'value': Array([0.9 , 0.08, 0.01, 0.01], dtype=float32)}\n",
      "{'type': 0, 'log_sum': -1.0951989004641007, 'value': Array([0.6185585 , 0.32203987, 0.32726595, 0.6376305 ], dtype=float32)}\n",
      "{'type': 1, 'log_sum': -1.0093095497920384, 'value': Array([0.90671396, 0.09328599, 0.29083276, 0.29083282], dtype=float32)}\n",
      "{'type': 1, 'log_sum': -0.8648523405059749, 'value': Array([0.19973549, 0.6227047 , 0.23106651, 0.7203839 ], dtype=float32)}\n",
      "{'type': 1, 'log_sum': -1.9783793771074984, 'value': Array([0.70502394, 0.05423261, 0.70502394, 0.05423261], dtype=float32)}\n",
      "{'type': 1, 'log_sum': -1.9783793771074984, 'value': Array([0.70502394, 0.05423261, 0.05423261, 0.70502394], dtype=float32)}\n",
      "{'type': 1, 'log_sum': -2.884160509870688, 'value': Array([0.40249225, 0.40249225, 0.5813777 , 0.5813777 ], dtype=float32)}\n",
      "{'type': 1, 'log_sum': -1.9783793771074984, 'value': Array([0.05423261, 0.70502394, 0.05423261, 0.70502394], dtype=float32)}\n",
      "{'type': 2, 'log_sum': 0, 'value': Array([1., 0., 0., 0.], dtype=float32)}\n",
      "{'type': 2, 'log_sum': 0, 'value': Array([0., 0., 1., 0.], dtype=float32)}\n",
      "{'type': 2, 'log_sum': 0, 'value': Array([1., 0., 0., 0.], dtype=float32)}\n",
      "{'type': 2, 'log_sum': 0, 'value': Array([0., 0., 0., 1.], dtype=float32)}\n",
      "{'type': 2, 'log_sum': 0, 'value': Array([0., 0., 1., 0.], dtype=float32)}\n",
      "{'type': 2, 'log_sum': 0, 'value': Array([0., 0., 0., 1.], dtype=float32)}\n",
      "{'type': 2, 'log_sum': 0, 'value': Array([0., 0., 0., 1.], dtype=float32)}\n",
      "{'type': 2, 'log_sum': 0, 'value': Array([0., 1., 0., 0.], dtype=float32)}\n"
     ]
    }
   ],
   "source": [
    "# execture backwards filter\n",
    "utree = upexec.up(tree, params.values())\n",
    "\n",
    "# It also normalizes the prior which I avoid\n",
    "utree.root.data['log_sum'] = 0\n",
    "utree.root.data['value'] = jnp.array([pi1, pi2, pi3, pi4])\n",
    "\n",
    "# print results\n",
    "total_log_sum = 0\n",
    "for node in utree.iter_bfs():\n",
    "    # print(node.name)\n",
    "    print(node.data)\n",
    "    total_log_sum += node.data['log_sum']\n",
    "    "
   ]
  },
  {
   "cell_type": "markdown",
   "metadata": {},
   "source": [
    "# Likelihood Computation\n",
    "We compute the likelihood as the dot product of the prior kernel and the value at the root, plus the norms of the normalized values."
   ]
  },
  {
   "cell_type": "code",
   "execution_count": 11,
   "metadata": {},
   "outputs": [
    {
     "name": "stdout",
     "output_type": "stream",
     "text": [
      "The log-likelihoog is -12.312714064841247\n"
     ]
    }
   ],
   "source": [
    "# Compute Log-Likelihood\n",
    "prior_vec = utree.root.data['value']\n",
    "h0_vec = utree.root.children[0].data['value']\n",
    "\n",
    "log_lik = math.log(jnp.dot(prior_vec, h0_vec)) + total_log_sum\n",
    "print(f\"The log-likelihoog is {log_lik}\")"
   ]
  },
  {
   "cell_type": "markdown",
   "metadata": {},
   "source": [
    "# Parameters Comparation\n",
    "Contour plot of log-likelihood results for different combinations of alpha and beta"
   ]
  },
  {
   "cell_type": "code",
   "execution_count": 12,
   "metadata": {},
   "outputs": [],
   "source": [
    "alpha_range = np.linspace(0.02, 0.32, 50)\n",
    "beta_range = np.linspace(0.02, 0.32, 50)\n",
    "likelihoods = np.zeros((len(alpha_range), len(beta_range)))\n",
    "\n",
    "for i, new_alpha in enumerate(alpha_range):\n",
    "    for j, new_beta in enumerate(beta_range):\n",
    "        # Update alpha\n",
    "        params['alpha'].update(float(new_alpha), True)\n",
    "        params['beta'].update(float(new_beta), True)\n",
    "\n",
    "        # create model and executor\n",
    "        upmodel = UpLambda(up_fn=up, fuse_fn=norm_product_fuse)\n",
    "        upexec = LevelwiseTreeExecutor(upmodel)\n",
    "\n",
    "        # execture backwards filter\n",
    "        new_tree = upexec.up(tree, params.values())\n",
    "\n",
    "        # It also normalizes the prior right now so\n",
    "        new_tree.root.data['log_sum'] = 0\n",
    "\n",
    "        # print results\n",
    "        total_log_sum = 0\n",
    "        for node in utree.iter_bfs():\n",
    "            total_log_sum += node.data['log_sum']\n",
    "            \n",
    "        # Compute Log-Likelihood\n",
    "        h0_vec = new_tree.root.children[0].data['value']\n",
    "        new_lik = math.log(jnp.dot(prior_vec, h0_vec)) + total_log_sum\n",
    "        likelihoods[i, j] = new_lik"
   ]
  },
  {
   "cell_type": "code",
   "execution_count": 13,
   "metadata": {},
   "outputs": [
    {
     "data": {
      "image/png": "[encoded data removed]",
      "text/plain": [
       "<Figure size 640x480 with 2 Axes>"
      ]
     },
     "metadata": {},
     "output_type": "display_data"
    }
   ],
   "source": [
    "alpha_grid, beta_grid = np.meshgrid(alpha_range, beta_range)\n",
    "\n",
    "plt.figure()\n",
    "levels = np.linspace(np.min(likelihoods), np.max(likelihoods), 75)\n",
    "cp = plt.contourf(alpha_grid, beta_grid, likelihoods.T, cmap='viridis', levels=levels)\n",
    "plt.colorbar(cp)\n",
    "\n",
    "# Plot the chosen parameters\n",
    "plt.scatter(true_params['alpha'].value, true_params['beta'].value, color='black', label='True Parameter')\n",
    "plt.legend()\n",
    "\n",
    "plt.xlabel('Alpha')\n",
    "plt.ylabel('Beta')\n",
    "plt.title('Log-Likelihood Contour Plot')\n",
    "plt.savefig(\"K2_Contour.png\")\n",
    "plt.show()"
   ]
  },
  {
   "cell_type": "code",
   "execution_count": null,
   "metadata": {},
   "outputs": [],
   "source": []
  }
 ],
 "metadata": {
  "kernelspec": {
   "display_name": "Python 3 (ipykernel)",
   "language": "python",
   "name": "python3"
  },
  "language_info": {
   "codemirror_mode": {
    "name": "ipython",
    "version": 3
   },
   "file_extension": ".py",
   "mimetype": "text/x-python",
   "name": "python",
   "nbconvert_exporter": "python",
   "pygments_lexer": "ipython3",
   "version": "3.12.2"
  }
 },
 "nbformat": 4,
 "nbformat_minor": 4
}
